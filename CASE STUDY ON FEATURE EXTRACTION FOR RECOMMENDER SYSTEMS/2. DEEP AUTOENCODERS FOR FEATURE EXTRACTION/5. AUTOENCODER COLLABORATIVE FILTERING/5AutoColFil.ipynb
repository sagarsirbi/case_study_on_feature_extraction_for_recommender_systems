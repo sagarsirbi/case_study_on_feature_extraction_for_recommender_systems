{
 "cells": [
  {
   "attachments": {},
   "cell_type": "markdown",
   "metadata": {},
   "source": [
    "#### COLLABORATIVE FILTERING MODEL WITH AUTOENCODER LATENT FEATURES AND EMBEDDINGS"
   ]
  },
  {
   "cell_type": "code",
   "execution_count": 2,
   "metadata": {},
   "outputs": [],
   "source": [
    "PATH = '/home/g056122/DAFERS'\n",
    "DATAPATH = '/home/g056122/ISG_studienarbeit/ml-1m'"
   ]
  },
  {
   "cell_type": "code",
   "execution_count": 3,
   "metadata": {},
   "outputs": [],
   "source": [
    "# import required libraries\n",
    "import pandas as pd\n",
    "import numpy as np\n",
    "import os\n",
    "import datetime\n",
    "import sklearn\n",
    "import torch\n",
    "import pickle\n",
    "import matplotlib.pyplot as plt\n",
    "from testdata import testdata\n",
    "import torch\n",
    "from torch.utils.data import Dataset, DataLoader\n",
    "from torch import nn\n",
    "from scipy.special import expit\n",
    "import seaborn as sns"
   ]
  },
  {
   "cell_type": "code",
   "execution_count": 4,
   "metadata": {},
   "outputs": [],
   "source": [
    "# load users data preprocessing pickle file\n",
    "[df, dftrain, dftest, df, dfratings, idx_to_user, idx_to_movie, movie_to_idx, user_to_idx]=pickle.load(open(f'{PATH}/1UsersData.pkl','rb'))"
   ]
  },
  {
   "cell_type": "code",
   "execution_count": 5,
   "metadata": {},
   "outputs": [],
   "source": [
    "# split dataset to train-test data\n",
    "dftrain=df.loc[df['train']=='train']\n",
    "dftest=df.loc[df['train']!='train']"
   ]
  },
  {
   "attachments": {},
   "cell_type": "markdown",
   "metadata": {},
   "source": [
    "DATA PREPARATION"
   ]
  },
  {
   "cell_type": "code",
   "execution_count": 6,
   "metadata": {},
   "outputs": [],
   "source": [
    "# load users autoencoder latent features pickle file\n",
    "[dftrain_userauto, dftest_userauto, user_mtx_1_weights, user_mtx_2_weights, dftrain_userauto_linear, dftest_userauto_linear] = pickle.load(open(f'{PATH}/2UserAutoencoderWeights.pkl','rb'))"
   ]
  },
  {
   "cell_type": "code",
   "execution_count": 7,
   "metadata": {},
   "outputs": [],
   "source": [
    "# load items autoencoder latent features pickle file\n",
    "[dftrain_itemauto, dftest_itemauto, item_mtx_1_weights, item_mtx_2_weights, dftrain_itemauto_linear, dftest_itemauto_linear] = pickle.load(open(f'{PATH}/3ItemAutoencoderWeights.pkl','rb'))"
   ]
  },
  {
   "cell_type": "code",
   "execution_count": 8,
   "metadata": {},
   "outputs": [
    {
     "name": "stdout",
     "output_type": "stream",
     "text": [
      "(900188, 21)\n",
      "(900188, 46)\n",
      "(900188, 71)\n"
     ]
    }
   ],
   "source": [
    "# rename index \n",
    "dftrain_itemauto = dftrain_itemauto.rename(columns={'item_idx':'movie_idx'})\n",
    "print(dftrain.shape)\n",
    "# merge dftrain and dftrain_itemauto\n",
    "dftrain=pd.merge(dftrain,dftrain_itemauto,on='movie_idx',how='left')\n",
    "print(dftrain.shape)\n",
    "# rename index\n",
    "dftrain_userauto = dftrain_userauto.rename(columns={'index':'user_idx'})\n",
    "# merge dftrain and dftrain_userauto\n",
    "dftrain=pd.merge(dftrain,dftrain_userauto,on='user_idx',how='left')\n",
    "print(dftrain.shape)"
   ]
  },
  {
   "cell_type": "code",
   "execution_count": 9,
   "metadata": {},
   "outputs": [
    {
     "name": "stdout",
     "output_type": "stream",
     "text": [
      "(100021, 21)\n",
      "(100021, 46)\n",
      "(100021, 71)\n"
     ]
    }
   ],
   "source": [
    "# rename index\n",
    "dftest_itemauto = dftest_itemauto.rename(columns={'item_idx':'movie_idx'})\n",
    "print(dftest.shape)\n",
    "# merge df_valid and df_valid_item_autoenc\n",
    "dftest=pd.merge(dftest,dftest_itemauto,on='movie_idx',how='left')\n",
    "print(dftest.shape)\n",
    "# rename index\n",
    "dftest_userauto = dftest_userauto.rename(columns={'index':'user_idx'})\n",
    "# merge df_valid and df_valid_user_autoenc\n",
    "dftest=pd.merge(dftest, dftest_userauto,on='user_idx',how='left')\n",
    "print(dftest.shape)"
   ]
  },
  {
   "cell_type": "code",
   "execution_count": 10,
   "metadata": {},
   "outputs": [],
   "source": [
    "# data preprocessing\n",
    "autoenc_cols=dftrain.columns[dftrain.columns.str.contains('autoenc')]\n",
    "autoenc_cols=autoenc_cols.tolist()"
   ]
  },
  {
   "attachments": {},
   "cell_type": "markdown",
   "metadata": {},
   "source": [
    "DATASET AND DATALOADER"
   ]
  },
  {
   "cell_type": "code",
   "execution_count": 11,
   "metadata": {},
   "outputs": [],
   "source": [
    "dstrain = testdata( dftrain[['user_idx','movie_idx'] + autoenc_cols], dftrain['rating'], autoenc_cols)\n",
    "dsvalid = testdata( dftest[['user_idx','movie_idx'] + autoenc_cols], dftest['rating'], autoenc_cols)"
   ]
  },
  {
   "cell_type": "code",
   "execution_count": 12,
   "metadata": {},
   "outputs": [],
   "source": [
    "# batch_size\n",
    "bs = 128 \n",
    "# load dataloader object\n",
    "dltrain=DataLoader(dstrain,bs,True)\n",
    "dlvalid=DataLoader(dsvalid,bs,True)"
   ]
  },
  {
   "attachments": {},
   "cell_type": "markdown",
   "metadata": {},
   "source": [
    "MODEL ARCHITECTURE"
   ]
  },
  {
   "cell_type": "code",
   "execution_count": 13,
   "metadata": {},
   "outputs": [],
   "source": [
    "# model parameters\n",
    "n_users=len(user_to_idx)\n",
    "n_movies=len(movie_to_idx)\n",
    "n_emb_user=50\n",
    "n_emb_movie=50\n",
    "min_rating=min(dftrain['rating'])\n",
    "max_rating=max(dftrain['rating'])\n",
    "dropout_e=0.1\n",
    "hidden=[25,10,10]\n",
    "dropouts=[0.2,0.3,0.2]"
   ]
  },
  {
   "cell_type": "code",
   "execution_count": 14,
   "metadata": {},
   "outputs": [],
   "source": [
    "# hidden layer architecture\n",
    "def hidden_layer(x,y,dropout,activation=nn.Sigmoid()):\n",
    "    ''' Function to create hidden layer architecture '''\n",
    "    return nn.Sequential(\n",
    "        nn.Linear(x, y),\n",
    "        activation,\n",
    "        nn.Dropout(p=dropout)\n",
    "        )   "
   ]
  },
  {
   "cell_type": "code",
   "execution_count": 15,
   "metadata": {},
   "outputs": [],
   "source": [
    "# load pretrained weights pickle\n",
    "pretrain_wts=pickle.load(open(f'{PATH}/4BaseEmbeddingsWeights','rb'))"
   ]
  },
  {
   "cell_type": "code",
   "execution_count": 16,
   "metadata": {},
   "outputs": [],
   "source": [
    "# create subclass for neural network module\n",
    "class test(nn.Module):    \n",
    "    def __init__(self, n_users, n_emb_user, n_emb_item, n_items, min_rating, max_rating, autoenc_cols, pretrain_wts, dropout_e=0.01, hidden=[15,5], dropouts=[0.2,0.2], error_type=\"mse\"):\n",
    "        # call parent class constructor in subclass using super function\n",
    "        super().__init__()\n",
    "        self.n_users, self.n_emb_user, self.n_emb_item, self.n_items, self.min_rating, self.max_rating = n_users, n_emb_user, n_emb_item, n_items, min_rating, max_rating\n",
    "        self.dropout_e, self.hidden, self.dropouts = dropout_e, hidden, dropouts\n",
    "        self.autoenc_cols, self.len_dense_cols = autoenc_cols, len(autoenc_cols)\n",
    "        self.create_architecture()\n",
    "        \n",
    "        if pretrain_wts is not None:\n",
    "            # intialize pre-trained weights\n",
    "            self.emb_user.weight.data=torch.FloatTensor(pretrain_wts[0])\n",
    "            self.emb_item.weight.data=torch.FloatTensor(pretrain_wts[1])\n",
    "            self.ub.weight.data=torch.FloatTensor(pretrain_wts[2])\n",
    "            self.ib.weight.data=torch.FloatTensor(pretrain_wts[3])\n",
    "\n",
    "        if error_type!=\"mse\":\n",
    "            self.criterion=nn.L1Loss()\n",
    "        else:\n",
    "            self.criterion=nn.MSELoss()\n",
    "        \n",
    "    def create_architecture(self):\n",
    "        '''\n",
    "        Function to create model architecture\n",
    "        '''\n",
    "        self.emb_user=nn.Embedding(self.n_users+1,self.n_emb_user)\n",
    "        self.emb_item=nn.Embedding(self.n_items+1,self.n_emb_item)\n",
    "        self.ub=nn.Embedding(self.n_users+1,1)\n",
    "        self.ib=nn.Embedding(self.n_items+1,1)\n",
    "        self.emb_dropout=nn.Dropout(self.dropout_e)\n",
    "        self.lin1= nn.Sequential(nn.Linear(self.n_emb_user+self.n_emb_item,self.hidden[0]),\n",
    "                    nn.ReLU(),\n",
    "                    nn.Dropout(p=dropouts[0]) )\n",
    "        self.lin_bias=nn.Linear(3,1)\n",
    "        self.lin2= nn.Sequential (nn.Linear(self.len_dense_cols,self.hidden[1]),\n",
    "                    nn.ReLU(),\n",
    "                    nn.Dropout(p=dropouts[1]) )\n",
    "        self.lin3= nn.Sequential (nn.Linear(self.hidden[0]+self.hidden[1]+1,self.hidden[2]),\n",
    "                    nn.ReLU(),\n",
    "                    nn.Dropout(p=dropouts[2]))\n",
    "        self.lin4=nn.Linear(self.hidden[2],1)\n",
    "        self.sigmoid=nn.Sigmoid()\n",
    "      \n",
    "    def init_parameters(self):\n",
    "        ''' Function to initialize the weights for the layers'''\n",
    "        # initialize weight parameter using the Kaiming normal initialization\n",
    "        nn.init.kaiming_normal_(self.emb_user.weight.data)\n",
    "        nn.init.kaiming_normal_(self.emb_item.weight.data)\n",
    "       \n",
    "    def forward (self,Xb,Yb):\n",
    "        ''' \n",
    "        Function to perform forward pass\n",
    "        '''\n",
    "        users = Xb[:,0].long()\n",
    "        items = Xb[:,1].long()\n",
    "        users = self.emb_dropout(self.emb_user(users))\n",
    "        items = self.emb_dropout(self.emb_item(items))\n",
    "        users_bias = self.emb_dropout(self.ub(Xb[:,0].long()))\n",
    "        items_bias = self.emb_dropout(self.ib(Xb[:,1].long()))\n",
    "        embed = torch.cat([users,items],1)\n",
    "        out1 = self.lin1(embed)\n",
    "        bias = torch.cat([users_bias,items_bias,users_bias+items_bias],1)\n",
    "        biased = self.lin_bias(bias)\n",
    "        denses = Xb[:,2:]\n",
    "        out2 = self.lin2(denses)\n",
    "        out3 = torch.cat([out1,out2,biased],1)\n",
    "        out4 = self.lin3(out3)\n",
    "        out5 = self.lin4(out4)\n",
    "        out = self.sigmoid(out5)\n",
    "        preds = out*(self.max_rating-self.min_rating)+self.min_rating\n",
    "        loss=self.criterion(preds,Yb)\n",
    "        return preds,loss"
   ]
  },
  {
   "attachments": {},
   "cell_type": "markdown",
   "metadata": {},
   "source": [
    "MODEL LEARNER"
   ]
  },
  {
   "cell_type": "code",
   "execution_count": 17,
   "metadata": {},
   "outputs": [],
   "source": [
    "class model_learner():\n",
    "    def __init__(self, model, optimizer, metric_fn, device, bptt = 12, print_every = 5, clip_val = None,\\\n",
    "                 cycle_mult = 0, lr_decay = 0.7, wd_mult = 6, start_lr = 2e-2, end_lr = 5e-4, error_type = \"mse\"):\n",
    "        self.model, self.optimizer, self.metric_fn, self.device, self.print_every, self.bptt, self.losses, self.clip_val=\\\n",
    "            model, optimizer, metric_fn, device, print_every, bptt, [], clip_val\n",
    "        self.n_epochs = 1\n",
    "        self.cycle_mult, self.lr_decay = cycle_mult, lr_decay\n",
    "        self.wd_mult = wd_mult\n",
    "        for param_group in self.optimizer.param_groups:\n",
    "            self.start_lr=param_group['lr']\n",
    "            self.start_wd=param_group['weight_decay']\n",
    "        self.wd=self.start_wd\n",
    "        self.lr=self.start_lr\n",
    "        self.end_lr=end_lr\n",
    "        self.n_epoch=0\n",
    "        self.lrs=[1e-2,5e-3,1e-4,5e-4]\n",
    "        self.preds,self.preds_valid,self.trainY,self.actual=[],[],[],[]\n",
    "        self.ratio=self.end_lr/self.start_lr\n",
    "        self.num_steps=self.cycle_mult\n",
    "        self.reset_cycle=self.cycle_mult\n",
    "        self.error_type=error_type\n",
    "        \n",
    "    def fit (self,Xb,Yb,mode_train=True):\n",
    "        ''' \n",
    "        Function to make predictions and loss\n",
    "        '''\n",
    "        if mode_train:\n",
    "            # set model to training mode\n",
    "            self.model.train()\n",
    "        else:\n",
    "            # set model to evalaute mode\n",
    "            self.model.eval()\n",
    "        \n",
    "        preds, loss = self.model(Xb, Yb)\n",
    "\n",
    "        if mode_train:\n",
    "            if 1==0:\n",
    "                lr = self.lrs[torch.randint(0,4,(1,))]\n",
    "                for param_group in self.optimizer.param_groups:\n",
    "                    param_group['lr'] = lr\n",
    "            \n",
    "            # clear gradients of all optimized parameters\n",
    "            self.optimizer.zero_grad()\n",
    "            # compute gradients of loss with respect to parameters of neural network\n",
    "            loss.backward()\n",
    "           # update model parameters\n",
    "            self.optimizer.step()\n",
    "        # compute loss\n",
    "        myloss = loss.item()\n",
    "    \n",
    "        with torch.no_grad():\n",
    "            if self.error_type == \"mse\":\n",
    "                acc = nn.L1Loss() (preds,Yb)\n",
    "                myrmse = np.sqrt(myloss)\n",
    "            else:\n",
    "                acc = nn.MSELoss() (preds,Yb)\n",
    "                myrmse = np.sqrt(acc.item())\n",
    "            acc = acc.item()\n",
    "        del preds\n",
    "        del loss\n",
    "        \n",
    "        if self.clip_val is not None:\n",
    "            torch.nn.utils.clip_grad_norm_(self.model.parameters(), self.clip_val)\n",
    "        \n",
    "        return myloss, acc, myrmse\n",
    "    \n",
    "    def lr_find (self, start_lr, end_lr, iterator, n_batch):\n",
    "        ''' \n",
    "        Function to determine optimal learning rate for the model\n",
    "        '''\n",
    "        losses, lrs = [], []\n",
    "        ratio = end_lr/start_lr\n",
    "        num_steps = n_batch\n",
    "        lr = start_lr\n",
    "        for i in range(num_steps):      \n",
    "            # learning rate schedule to gradually decrease the learning rate over time         \n",
    "            lr=lr*(ratio)**(1/num_steps)\n",
    "            lrs.append(lr)\n",
    "        self.lrs = lrs\n",
    "        self.run_epoch(iterator,mode_train=True,lrs=lrs)\n",
    "    \n",
    "    def run_epoch(self,iterator,mode_train,lrs=None):\n",
    "        ''' \n",
    "        Function to train the model for one epoch\n",
    "        '''\n",
    "        epoch_loss,epoch_acc,i,k=0,0,0,0\n",
    "        epoch_rmse=0\n",
    "\n",
    "        for Xb,Yb in iterator:\n",
    "            Xb = Xb\n",
    "            Yb = Yb\n",
    "            \n",
    "            if lrs is not None:\n",
    "                lr = lrs[k]\n",
    "                for param_group in self.optimizer.param_groups:\n",
    "                    param_group['lr']=lr \n",
    "            \n",
    "            loss, acc, myrmse = self.fit( Xb, Yb, mode_train)\n",
    "            \n",
    "            if lrs is not None:\n",
    "                self.losses.append(loss)\n",
    "\n",
    "            epoch_loss+=loss\n",
    "            epoch_acc+=acc\n",
    "            epoch_rmse+=myrmse\n",
    "            \n",
    "            k = k+1\n",
    "            # if k%self.print_every == 0:\n",
    "            #     if k:\n",
    "            #         print (f'Batch:{k} {epoch_loss/(k)}  ')  \n",
    "        epoch_loss = epoch_loss / len(iterator)\n",
    "        epoch_acc = epoch_acc / len(iterator)\n",
    "        epoch_rmse = epoch_rmse / len(iterator)\n",
    "            \n",
    "        return epoch_loss, epoch_acc, epoch_rmse\n",
    "    \n",
    "    def plot_lrs(self, n_roll=1, ylim=None, xlim=None):\n",
    "        ''' \n",
    "        Function to plot graph of learning rate vs loss\n",
    "        '''\n",
    "        ax=sns.lineplot(x=self.lrs,y=pd.Series(self.losses).rolling(n_roll).mean())\n",
    "        ax.set_xscale('log')\n",
    "        ax.set_ylabel('Loss')\n",
    "        ax.set_xlabel('Learning Rate')\n",
    "        if ylim is not None:\n",
    "            plt.ylim(ylim)\n",
    "        if xlim is not None:\n",
    "            plt.xlim(xlim)\n",
    "\n",
    "    def run_epochs(self,dltrain,dlvalid,n_epochs=1):    \n",
    "        ''' \n",
    "        Function to run epochs for n_epochs\n",
    "        '''   \n",
    "        pltloss, pltlossv=[], []       \n",
    "        for epoch in range(n_epochs):                \n",
    "            loss, acc, rmse = self.run_epoch(dltrain,True)\n",
    "            lossv, accv, rmsev = self.run_epoch(dlvalid,mode_train=False)\n",
    "\n",
    "            # append loss values \n",
    "            pltloss.append(loss)\n",
    "            pltlossv.append(lossv)\n",
    "\n",
    "            if self.error_type==\"mse\":\n",
    "                loss_mse = loss\n",
    "                loss_rmse = rmse\n",
    "                loss_mae = acc\n",
    "                lossv_mse = lossv\n",
    "                lossv_rmse = rmsev\n",
    "                lossv_mae = accv\n",
    "            else:\n",
    "                loss_mse = acc\n",
    "                loss_rmse = rmse\n",
    "                loss_mae = loss\n",
    "                lossv_mse = accv\n",
    "                lossv_rmse = rmsev\n",
    "                lossv_mae = lossv\n",
    "            \n",
    "            print (f'Epoch:{epoch+1} Learning rate {self.lr} Weight Decay {self.wd} Train Loss:{loss} Valid Loss:{lossv} Train RMSE:{loss_rmse} Valid RMSE:{lossv_rmse} Train MSE:{loss_mse} Valid MSE:{lossv_mse} \\\n",
    "                Train MAE:{loss_mae} Valid MAE:{lossv_mae}')\n",
    "\n",
    "            if self.cycle_mult:\n",
    "                if self.n_epoch==self.reset_cycle:\n",
    "                    self.lr=self.start_lr\n",
    "                    self.reset_cycle*=self.cycle_mult\n",
    "                    self.n_epoch=0\n",
    "                    self.ratio=self.end_lr/self.start_lr\n",
    "                    self.num_steps=self.reset_cycle\n",
    "                else:\n",
    "                    self.lr=self.lr*(self.end_lr/self.start_lr)**(1/self.num_steps)\n",
    "                    self.n_epoch+=1\n",
    "                \n",
    "            for param_group in self.optimizer.param_groups:\n",
    "                param_group['lr']=self.lr\n",
    "        \n",
    "        # plot train-test learning curve\n",
    "        plt_x = np.arange(1, n_epochs+1)\n",
    "        plt.plot(plt_x, pltloss, label='Train Loss')\n",
    "        plt.plot(plt_x, pltlossv, label='Test Loss')\n",
    "        \n",
    "        # set plot labels and title\n",
    "        plt.xlabel('Epochs')\n",
    "        plt.ylabel('Loss')\n",
    "        plt.title('Learning Curve (DNN with autoencoder and embeddings)')\n",
    "\n",
    "        # add a legend\n",
    "        plt.legend(loc='upper right')\n",
    "\n",
    "        # display the plot\n",
    "        plt.show()"
   ]
  },
  {
   "cell_type": "code",
   "execution_count": 20,
   "metadata": {},
   "outputs": [],
   "source": [
    "# model architecture object\n",
    "testobj = test(n_users, n_emb_user, n_emb_movie, n_movies, min_rating, max_rating, autoenc_cols, pretrain_wts, dropout_e, hidden, dropouts, error_type=\"mse\")\n",
    "# optimizer\n",
    "optimizer = torch.optim.Adam(testobj.parameters(),lr=4.75e-4,betas=(0.9,0.999), weight_decay=1e-7)\n",
    "# model learner object\n",
    "learner = model_learner(testobj, optimizer, None, 0, 16000, 0.25, cycle_mult = 10, error_type = \"mse\")"
   ]
  },
  {
   "cell_type": "code",
   "execution_count": 21,
   "metadata": {},
   "outputs": [
    {
     "name": "stdout",
     "output_type": "stream",
     "text": [
      "Epoch:1 Learning rate 0.000475 Weight Decay 1e-07 Train Loss:0.8517184389293507 Valid Loss:0.7604867742418329 Train RMSE:0.9196900626498953 Valid RMSE:0.870097280998313 Train MSE:0.8517184389293507 Valid MSE:0.7604867742418329                 Train MAE:0.7337756733136345 Valid MAE:0.6887919499593622\n",
      "Epoch:2 Learning rate 0.00047744269081074987 Weight Decay 1e-07 Train Loss:0.7731732659568391 Valid Loss:0.7422361421539351 Train RMSE:0.8772526332073209 Valid RMSE:0.8594524543057778 Train MSE:0.7731732659568391 Valid MSE:0.7422361421539351                 Train MAE:0.6960879685816717 Valid MAE:0.6789177825383823\n",
      "Epoch:3 Learning rate 0.00047989794317601956 Weight Decay 1e-07 Train Loss:0.7535754440265717 Valid Loss:0.7353977322807093 Train RMSE:0.8660397402311363 Valid RMSE:0.8553745846393721 Train MSE:0.7535754440265717 Valid MSE:0.7353977322807093                 Train MAE:0.6859410630678632 Valid MAE:0.6765516529150326\n",
      "Epoch:4 Learning rate 0.0004823658216936908 Weight Decay 1e-07 Train Loss:0.7431216213995713 Valid Loss:0.7303980373208175 Train RMSE:0.8600610837771611 Valid RMSE:0.8525961700005026 Train MSE:0.7431216213995713 Valid MSE:0.7303980373208175                 Train MAE:0.680816820068514 Valid MAE:0.6739381948090575\n",
      "Epoch:5 Learning rate 0.00048484639129384025 Weight Decay 1e-07 Train Loss:0.7346243159913006 Valid Loss:0.7305173541578796 Train RMSE:0.8550958830431616 Valid RMSE:0.8525411393040678 Train MSE:0.7346243159913006 Valid MSE:0.7305173541578796                 Train MAE:0.6762112926643569 Valid MAE:0.673212252385781\n",
      "Epoch:6 Learning rate 0.00048733971724044807 Weight Decay 1e-07 Train Loss:0.7293805213507117 Valid Loss:0.7278193654992696 Train RMSE:0.8520439254786705 Valid RMSE:0.8510856567626981 Train MSE:0.7293805213507117 Valid MSE:0.7278193654992696                 Train MAE:0.6735889337724902 Valid MAE:0.6706752893717393\n",
      "Epoch:7 Learning rate 0.0004898458651331148 Weight Decay 1e-07 Train Loss:0.7237756448442594 Valid Loss:0.7259446242657464 Train RMSE:0.848740594509554 Valid RMSE:0.8498412638487843 Train MSE:0.7237756448442594 Valid MSE:0.7259446242657464                 Train MAE:0.6705952625550604 Valid MAE:0.6693671000430651\n",
      "Epoch:8 Learning rate 0.0004923649009087874 Weight Decay 1e-07 Train Loss:0.7178321292521384 Valid Loss:0.7250349129862188 Train RMSE:0.8452557543119568 Valid RMSE:0.849387841878195 Train MSE:0.7178321292521384 Valid MSE:0.7250349129862188                 Train MAE:0.6676305193964116 Valid MAE:0.6685011367816145\n",
      "Epoch:9 Learning rate 0.000494896890843494 Weight Decay 1e-07 Train Loss:0.7143690362392576 Valid Loss:0.7255730711285721 Train RMSE:0.8432305822002201 Valid RMSE:0.8497003104987683 Train MSE:0.7143690362392576 Valid MSE:0.7255730711285721                 Train MAE:0.6656074233148679 Valid MAE:0.6689583339807018\n",
      "Epoch:10 Learning rate 0.0004974419015540878 Weight Decay 1e-07 Train Loss:0.7121207500214294 Valid Loss:0.7250318004728278 Train RMSE:0.8418254044651245 Valid RMSE:0.849308766638294 Train MSE:0.7121207500214294 Valid MSE:0.7250318004728278                 Train MAE:0.6643417308107813 Valid MAE:0.6708632241124692\n"
     ]
    },
    {
     "data": {
      "image/png": "[encoded data removed]",
      "text/plain": [
       "<Figure size 640x480 with 1 Axes>"
      ]
     },
     "metadata": {},
     "output_type": "display_data"
    }
   ],
   "source": [
    "learner.run_epochs(dltrain,dlvalid,10)"
   ]
  },
  {
   "cell_type": "code",
   "execution_count": 22,
   "metadata": {},
   "outputs": [],
   "source": [
    "# save objects and parameters as pickle file\n",
    "torch.save(testobj,f=f'{PATH}/5Cfobj')\n",
    "torch.save(learner,f=f'{PATH}/5CfLearner')\n",
    "torch.save(optimizer,f=f'{PATH}/5Optimizer')\n",
    "torch.save(testobj.state_dict(),f'{PATH}/5CfStateDict')\n",
    "torch.save(optimizer.state_dict(),f'{PATH}/5CfOptimizerStateDict')"
   ]
  }
 ],
 "metadata": {
  "kernelspec": {
   "display_name": "Python 3",
   "language": "python",
   "name": "python3"
  },
  "language_info": {
   "codemirror_mode": {
    "name": "ipython",
    "version": 3
   },
   "file_extension": ".py",
   "mimetype": "text/x-python",
   "name": "python",
   "nbconvert_exporter": "python",
   "pygments_lexer": "ipython3",
   "version": "3.10.10"
  },
  "orig_nbformat": 4,
  "vscode": {
   "interpreter": {
    "hash": "5c41cc7a6bf458ae2af5583a7906ef5f402c759b4882f3cbfc8ede19b81b2d2f"
   }
  }
 },
 "nbformat": 4,
 "nbformat_minor": 2
}
