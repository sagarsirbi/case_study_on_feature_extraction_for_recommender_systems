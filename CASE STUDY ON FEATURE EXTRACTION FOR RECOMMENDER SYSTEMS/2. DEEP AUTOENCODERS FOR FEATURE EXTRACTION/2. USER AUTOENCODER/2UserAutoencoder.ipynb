{
 "cells": [
  {
   "attachments": {},
   "cell_type": "markdown",
   "metadata": {},
   "source": [
    "#### USER AUTOENCODER MODEL"
   ]
  },
  {
   "cell_type": "code",
   "execution_count": 21,
   "metadata": {},
   "outputs": [],
   "source": [
    "PATH = '/home/g056122/DAFERS'\n",
    "DATAPATH = '/home/g056122/ISG_studienarbeit/ml-1m'      "
   ]
  },
  {
   "cell_type": "code",
   "execution_count": 22,
   "metadata": {},
   "outputs": [],
   "source": [
    "''' \n",
    "Load 'autoencoder' module from 'Module' folder\n",
    "'''\n",
    "# import required libraries\n",
    "import pandas as pd\n",
    "import numpy as np\n",
    "import sklearn\n",
    "import torch\n",
    "import pickle\n",
    "import matplotlib.pyplot as plt\n",
    "from autoencoder import modeldata\n",
    "from torch.utils.data import DataLoader\n",
    "from torch import nn\n",
    "import seaborn as sns\n",
    "from scipy.special import expit"
   ]
  },
  {
   "cell_type": "code",
   "execution_count": 23,
   "metadata": {},
   "outputs": [],
   "source": [
    "# load users data preparation file\n",
    "[df, dftrain, dftest, df, dfratings, idx_to_user, idx_to_movie, movie_to_idx, user_to_idx]=pickle.load(open(f'{PATH}/1UsersData.pkl','rb'))"
   ]
  },
  {
   "attachments": {},
   "cell_type": "markdown",
   "metadata": {},
   "source": [
    "DATASET AND DATALOADER"
   ]
  },
  {
   "cell_type": "code",
   "execution_count": 24,
   "metadata": {},
   "outputs": [],
   "source": [
    "# load dataset for the model\n",
    "dstrain= modeldata(dftrain, dftest)"
   ]
  },
  {
   "cell_type": "code",
   "execution_count": 25,
   "metadata": {},
   "outputs": [
    {
     "data": {
      "text/plain": [
       "189"
      ]
     },
     "execution_count": 25,
     "metadata": {},
     "output_type": "execute_result"
    }
   ],
   "source": [
    "# create a DataLoader object\n",
    "# batch size\n",
    "bs=32\n",
    "dltrain=DataLoader(dstrain,batch_size=bs,shuffle=True)\n",
    "# print length\n",
    "len(dltrain)"
   ]
  },
  {
   "attachments": {},
   "cell_type": "markdown",
   "metadata": {},
   "source": [
    "MODEL ARCHITECTURE"
   ]
  },
  {
   "cell_type": "code",
   "execution_count": 26,
   "metadata": {},
   "outputs": [],
   "source": [
    "# model architecture\n",
    "def hidden_layer(x,y,dropout,activation=nn.Sigmoid()):\n",
    "    return nn.Sequential(\n",
    "        nn.Linear(x, y),\n",
    "        activation,\n",
    "        nn.Dropout(p=dropout),\n",
    "        nn.BatchNorm1d(y)\n",
    "        )   "
   ]
  },
  {
   "cell_type": "code",
   "execution_count": 27,
   "metadata": {},
   "outputs": [],
   "source": [
    "# create subclass for neural network module\n",
    "class autoencoder (nn.Module):    \n",
    "    def __init__(self, n_inp, hidden=[50,10], dropouts=[0,0,0], rating_range=[0.5,5]):\n",
    "        # call parent class constructor in subclass using super function\n",
    "        super().__init__()\n",
    "        self.n_inp, self.hidden, self.dropouts, self.rating_range = n_inp, hidden, dropouts, rating_range\n",
    "        # create hidden layer object list for encoder\n",
    "        encoder=[hidden_layer(n_inp if i==0 else hidden[i-1],hidden[i],dropouts[i]) for i in range(len(hidden))]\n",
    "        # unpack hidden layer objects in the sequential container\n",
    "        self.encoder=nn.Sequential(*encoder)\n",
    "        # reverse the order of elements in hidden list\n",
    "        hidden=hidden[::-1]\n",
    "        num_steps=len(hidden)-1\n",
    "        dropouts=dropouts[num_steps:]\n",
    "        # create hidden layer object list for decoder\n",
    "        decoder=[hidden_layer(hidden[i],hidden[i+1] if i<num_steps else n_inp, dropouts[i]) for i in range(len(hidden)-1)]\n",
    "        # unpack object list in the sequential \n",
    "        self.decoder=nn.Sequential(*decoder)\n",
    "        # fully connected layer\n",
    "        self.fc=nn.Linear(hidden[-1],n_inp)\n",
    "        # initialize the weight and the bias values of the network's layers\n",
    "        self.initialize()\n",
    "        # define loss function for the model\n",
    "        self.criterion=nn.MSELoss()\n",
    "    \n",
    "    # function to initialize the weights of layers for encoder and decoder\n",
    "    def initialize(self):\n",
    "        ''' \n",
    "        Function to initialize the weights for the layers\n",
    "        '''\n",
    "        for x in self.encoder:\n",
    "            # initialize weight parameter using the Kaiming normal initialization\n",
    "            nn.init.kaiming_normal_(x[0].weight.data)\n",
    "        for x in self.decoder:\n",
    "            nn.init.kaiming_normal_(x[0].weight.data)\n",
    "\n",
    "    def forward (self, Xb):\n",
    "        ''' \n",
    "        Function to perform forward pass\n",
    "        \n",
    "        Returns: test predictions, training loss, training predictions\n",
    "        '''\n",
    "        encoded=self.encoder(Xb)\n",
    "        decoded=self.decoder(encoded)\n",
    "        out=self.fc(decoded)\n",
    "        # deep copy of predictions for the model\n",
    "        outv=out.clone()\n",
    "        # final output set to 0 if Xb is set 0\n",
    "        out[Xb==0]=0\n",
    "        # compute loss\n",
    "        loss=self.criterion(out,Xb)\n",
    "        # return original cloned output, loss and final output\n",
    "        return outv, loss, out"
   ]
  },
  {
   "attachments": {},
   "cell_type": "markdown",
   "metadata": {},
   "source": [
    "LEARNER"
   ]
  },
  {
   "cell_type": "code",
   "execution_count": 28,
   "metadata": {},
   "outputs": [],
   "source": [
    "class Learner():\n",
    "    def __init__(self, model, optimizer, metric_fn, bptt = 12, print_every = 5, clip_val = \\\n",
    "            None, cycle_mult = 0, lr_decay = 0.7, wd_mult = 6, start_lr = 2e-2, end_lr = 5e-4):\n",
    "        self.model, self.optimizer, self.metric_fn, self.print_every, self.bptt, self.losses, self.clip_val = \\\n",
    "            model, optimizer, metric_fn, print_every, bptt, [], clip_val\n",
    "        self.n_epochs=1\n",
    "        self.cycle_mult, self.lr_decay = cycle_mult, lr_decay\n",
    "        self.wd_mult = wd_mult\n",
    "        for param_group in self.optimizer.param_groups:\n",
    "            self.start_lr=param_group['lr']\n",
    "            self.start_wd=param_group['weight_decay']\n",
    "        self.wd=self.start_wd\n",
    "        self.lr=self.start_lr\n",
    "        self.end_lr=end_lr\n",
    "        self.n_epoch=0\n",
    "        self.lrs=[1e-2,5e-3,1e-4,5e-4]\n",
    "        self.preds, self.preds_test, self.trainY, self.actual=[],[],[],[]\n",
    "        self.ratio = self.end_lr/self.start_lr\n",
    "        self.num_steps = self.cycle_mult\n",
    "        self.reset_cycle = self.cycle_mult\n",
    "        \n",
    "    def fit (self,Xb,Xb_v,mode_train=True):\n",
    "        ''' function to make predictions and losses for the model with given data\n",
    "\n",
    "        Arguments:\n",
    "            Xb: Training data\n",
    "            Xb_v: Validation data\n",
    "\n",
    "        Returns: train prediction, test prediction, train accuracy, test accuracy\n",
    "        '''\n",
    "        if mode_train:\n",
    "            # set model to training mode\n",
    "            self.model.train()\n",
    "        else:\n",
    "            # set model to evaluate mode\n",
    "            self.model.eval()\n",
    "        \n",
    "        preds, loss, preds_train = self.model(Xb)\n",
    "\n",
    "        mean_corrector = Xb.size(0)*Xb.size(1)/(torch.sum(Xb > 0).float() + 1e-10)\n",
    "        mean_corrector_v = Xb_v.size(0)*Xb_v.size(1)/(torch.sum(Xb_v > 0).float() + 1e-10)\n",
    "        # denominator is the average of the error with non-zero ratings\n",
    "\n",
    "        with torch.no_grad():\n",
    "            preds[Xb_v==0]=0\n",
    "            loss_v=self.model.criterion(preds,Xb_v)\n",
    "            # The value of the loss_v tensor can then be used to update the model's parameters and optimize its performance.\n",
    "            \n",
    "            if self.metric_fn is not None:\n",
    "                # reshape the tensor Yb based on teh size of the other dimensions\n",
    "                acc=self.metric_fn(preds,Yb.view(-1))\n",
    "                # convert tensor scalar to python scalar\n",
    "                acc=acc.item()\n",
    "\n",
    "                if 1==0:\n",
    "                    if mode_train:\n",
    "                        self.trainY.append(Yb.view(-1))\n",
    "                        self.preds.append(preds.data)\n",
    "                    else:\n",
    "                        self.actual.append(Yb.view(-1))\n",
    "                        self.preds_valid.append(preds.data)\n",
    "            else:\n",
    "                acc = 0\n",
    "                acc_v = 0\n",
    "            del preds\n",
    "        \n",
    "        if mode_train:\n",
    "            if 1==0:\n",
    "                lr =self.lrs[torch.randint(0,4,(1,))]\n",
    "                for param_group in self.optimizer.param_groups:\n",
    "                    param_group['lr']=lr\n",
    "            \n",
    "            # clear gradients of all optimized parameters. This method is typically called before computing the gradients of the model's parameters with backward() method\n",
    "            self.optimizer.zero_grad()\n",
    "            # compute gradients of loss with respect to paramters of neural network\n",
    "            loss.backward()\n",
    "            # optimizer updates the parameters\n",
    "            self.optimizer.step()\n",
    "        # compute train and test loss\n",
    "        myloss=torch.sqrt(loss.item()*mean_corrector)\n",
    "        myloss_v=torch.sqrt(loss_v.item()*mean_corrector_v)\n",
    "        del loss\n",
    "        \n",
    "        if self.clip_val is not None:\n",
    "            torch.nn.utils.clip_grad_norm_(self.model.parameters(), self.clip_val)\n",
    "        \n",
    "        return myloss, acc, myloss_v,acc_v\n",
    "    \n",
    "    def lr_find (self, start_lr, end_lr, iterator, n_batch):\n",
    "        ''' \n",
    "        Function to determine optimal learning rate for training the model\n",
    "        '''\n",
    "        losses,lrs=[],[]\n",
    "        ratio=end_lr/start_lr\n",
    "        num_steps=n_batch\n",
    "        lr=start_lr\n",
    "        for i in range(num_steps):   \n",
    "            # learning rate schedule to gradually decrease the learning rate over time         \n",
    "            lr=lr*(end_lr/start_lr)**(1/num_steps)\n",
    "            lrs.append(lr)\n",
    "        self.lrs=lrs\n",
    "        self.run_epoch(iterator,mode_train=True,lrs=lrs)\n",
    "    \n",
    "    def run_epoch(self,iterator,mode_train,lrs=None):\n",
    "        ''' \n",
    "        Function to train the model for one epoch\n",
    "        '''\n",
    "        epoch_loss, epoch_acc, i, k=0, 0, 0, 0\n",
    "        epoch_loss_v, epoch_acc_v = 0, 0\n",
    "\n",
    "        for Xb, Xb_v in iterator:\n",
    "            Xb = Xb\n",
    "            Xb_v = Xb_v\n",
    "            if lrs is not None:\n",
    "                lr = lrs[k]\n",
    "                for param_group in self.optimizer.param_groups:\n",
    "                    param_group['lr']=lr \n",
    "            \n",
    "            loss, acc, loss_v, acc_v = self.fit (Xb, Xb_v, mode_train)\n",
    "            \n",
    "            if lrs is not None:\n",
    "                self.losses.append(loss)\n",
    "            \n",
    "            epoch_loss+=loss\n",
    "            epoch_acc+=acc\n",
    "            epoch_loss_v+=loss_v\n",
    "            epoch_acc_v+=acc_v\n",
    "            \n",
    "            k=k+1\n",
    "            if k%self.print_every == 0:\n",
    "                if k:\n",
    "                    print (f'Batch:{k} Train loss: {epoch_loss/(k)} Test loss: {epoch_loss_v/(k)} ')  \n",
    "        epoch_loss=epoch_loss/len(iterator)\n",
    "        epoch_acc=epoch_acc/len(iterator)\n",
    "        epoch_loss_v=epoch_loss_v/len(iterator)\n",
    "        epoch_acc_v=epoch_acc_v/len(iterator)\n",
    "            \n",
    "        return epoch_loss, epoch_acc, epoch_loss_v, epoch_acc_v\n",
    "    \n",
    "    def plot_lrs(self, n_roll = 1, ylim = None, xlim = None):\n",
    "        ''' \n",
    "        Function to plot graph of learning rate vs loss\n",
    "        '''\n",
    "        ax=sns.lineplot(x=self.lrs,y=pd.Series(self.losses).rolling(n_roll).mean())\n",
    "        ax.set_xscale('log')\n",
    "        ax.set_ylabel('Loss')\n",
    "        ax.set_xlabel('Learning Rate')\n",
    "        if ylim is not None:\n",
    "            plt.ylim(ylim)\n",
    "        if xlim is not None:\n",
    "            plt.xlim(xlim)\n",
    "\n",
    "     \n",
    "    def run_epochs(self,dltrain,dlvalid,n_epochs=1):\n",
    "        ''' \n",
    "        Function to run epochs for n times\n",
    "        '''\n",
    "        for epoch in range(n_epochs):                \n",
    "\n",
    "            loss, acc, lossv, accv = self.run_epoch(dltrain,True)\n",
    "            print (f'Epoch:{epoch+1} Learning rate {self.lr} Weight Decay {self.wd} Train Loss:{loss}  Test Loss:{lossv} ')\n",
    "  \n",
    "            if self.cycle_mult:\n",
    "                if self.n_epoch==self.reset_cycle:\n",
    "                    self.lr=self.start_lr\n",
    "                    self.reset_cycle*=self.cycle_mult\n",
    "                    self.n_epoch=0\n",
    "                    self.ratio=self.end_lr/self.start_lr\n",
    "                    self.num_steps=self.reset_cycle\n",
    "                else:\n",
    "                    self.lr=self.lr*(self.end_lr/self.start_lr)**(1/self.num_steps)\n",
    "                    self.n_epoch+=1\n",
    "\n",
    "            for param_group in self.optimizer.param_groups:\n",
    "                param_group['lr']=self.lr         "
   ]
  },
  {
   "cell_type": "code",
   "execution_count": 29,
   "metadata": {},
   "outputs": [],
   "source": [
    "# model architecture object\n",
    "autoencoderobj = autoencoder(dftrain.shape[1],[100,25],[0.2,0.2,0.2])\n",
    "#optimizer\n",
    "optimizer=torch.optim.Adam(autoencoderobj.parameters(),lr=5e-3,betas=(0.9,0.999), weight_decay=1e-7)\n",
    "# learner object\n",
    "learner=Learner(autoencoderobj, optimizer,None,0,500,0.25,cycle_mult=0)"
   ]
  },
  {
   "cell_type": "code",
   "execution_count": 30,
   "metadata": {},
   "outputs": [],
   "source": [
    "# find optimal learning rate \n",
    "learner.lr_find(1e-4,3e-1,dltrain,len(dltrain))"
   ]
  },
  {
   "cell_type": "code",
   "execution_count": 31,
   "metadata": {},
   "outputs": [
    {
     "data": {
      "image/png": "[encoded data removed]",
      "text/plain": [
       "<Figure size 640x480 with 1 Axes>"
      ]
     },
     "metadata": {},
     "output_type": "display_data"
    }
   ],
   "source": [
    "# plot for learning rate schedule\n",
    "learner.plot_lrs(10)"
   ]
  },
  {
   "cell_type": "code",
   "execution_count": 32,
   "metadata": {},
   "outputs": [
    {
     "name": "stdout",
     "output_type": "stream",
     "text": [
      "Epoch:1 Learning rate 0.005 Weight Decay 1e-07 Train Loss:1.2770363092422485  Test Loss:1.2765843868255615 \n",
      "Epoch:2 Learning rate 0.005 Weight Decay 1e-07 Train Loss:0.9974448680877686  Test Loss:0.9975978136062622 \n",
      "Epoch:3 Learning rate 0.005 Weight Decay 1e-07 Train Loss:0.9798130393028259  Test Loss:0.9798939228057861 \n",
      "Epoch:4 Learning rate 0.005 Weight Decay 1e-07 Train Loss:0.9781323075294495  Test Loss:0.9781518578529358 \n",
      "Epoch:5 Learning rate 0.005 Weight Decay 1e-07 Train Loss:0.9775764346122742  Test Loss:0.9776224493980408 \n"
     ]
    }
   ],
   "source": [
    "learner.run_epochs(dltrain,None,5)"
   ]
  },
  {
   "attachments": {},
   "cell_type": "markdown",
   "metadata": {},
   "source": [
    "SAVE"
   ]
  },
  {
   "cell_type": "code",
   "execution_count": 33,
   "metadata": {},
   "outputs": [],
   "source": [
    "# save model archeitecture, classes and functions\n",
    "torch.save(autoencoderobj,f=f'{PATH}/2UserAutoencoder')\n",
    "torch.save(learner,f=f'{PATH}/2UserAutoencoderLearner')\n",
    "torch.save(optimizer,f=f'{PATH}/2UserAutoencoderOptimizer')\n",
    "# dictionary containing all the information required to recreate a model archeitecture and state i.e. parameters and buffers of the model.\n",
    "torch.save(autoencoderobj.state_dict(),f'{PATH}/2UserAutoencoderStateDict')\n",
    "torch.save(optimizer.state_dict(),f'{PATH}/2UserAutoencoderOptimizerStateDict')"
   ]
  },
  {
   "attachments": {},
   "cell_type": "markdown",
   "metadata": {},
   "source": [
    "DATA PREPARATION FOR USER AUTOENCODER LATENT FEATURES"
   ]
  },
  {
   "cell_type": "code",
   "execution_count": 34,
   "metadata": {},
   "outputs": [],
   "source": [
    "# convert encoder layer weights to a numpy array\n",
    "user_mtx_1_weights=autoencoderobj.encoder[0][0].weight.data.numpy()\n",
    "user_mtx_2_weights=autoencoderobj.encoder[1][0].weight.data.numpy()"
   ]
  },
  {
   "cell_type": "code",
   "execution_count": 35,
   "metadata": {},
   "outputs": [],
   "source": [
    "# Matrix multiplication\n",
    "# expit function squashes the input value between 0 and 1\n",
    "dftrain_userauto=(expit(dftrain@user_mtx_1_weights.T)@user_mtx_2_weights.T)\n",
    "dftest_userauto=(expit(dftest@user_mtx_1_weights.T)@user_mtx_2_weights.T)\n",
    "dftrain_userauto_linear=((dftrain@user_mtx_1_weights.T)@user_mtx_2_weights.T)\n",
    "dftest_userauto_linear=((dftest@user_mtx_1_weights.T)@user_mtx_2_weights.T)"
   ]
  },
  {
   "cell_type": "code",
   "execution_count": 36,
   "metadata": {},
   "outputs": [],
   "source": [
    "# create training arrays to pandas dataframe\n",
    "dftrain_userauto=pd.DataFrame(dftrain_userauto)\n",
    "dftrain_userauto_linear=pd.DataFrame(dftrain_userauto_linear)\n",
    "# create test arrays to pandas dataframe\n",
    "dftest_userauto=pd.DataFrame(dftest_userauto)\n",
    "dftest_userauto_linear=pd.DataFrame(dftest_userauto_linear)"
   ]
  },
  {
   "cell_type": "code",
   "execution_count": 37,
   "metadata": {},
   "outputs": [],
   "source": [
    "# define columns for training dataframe\n",
    "dftrain_userauto.columns=['user_autoenc'+str(i) for i in range(dftrain_userauto.shape[1])]\n",
    "dftrain_userauto_linear.columns=['user_autoenc_linear'+str(i) for i in range(dftrain_userauto_linear.shape[1])]\n",
    "# define columns for test dataframe\n",
    "dftest_userauto.columns=['user_autoenc'+str(i) for i in range(dftest_userauto.shape[1])]\n",
    "dftest_userauto_linear.columns=['user_autoenc_linear'+str(i) for i in range(dftest_userauto_linear.shape[1])]"
   ]
  },
  {
   "cell_type": "code",
   "execution_count": 38,
   "metadata": {},
   "outputs": [],
   "source": [
    "# reset indices of dataframes\n",
    "dftrain_userauto.reset_index(inplace=True)\n",
    "dftest_userauto.reset_index(inplace=True)"
   ]
  },
  {
   "cell_type": "code",
   "execution_count": 39,
   "metadata": {},
   "outputs": [],
   "source": [
    "# rename index\n",
    "dftrain_userauto.rename({'index':'user_idx'},axis=1,inplace=True)\n",
    "dftest_userauto.rename({'index':'user_idx'},axis=1,inplace=True)"
   ]
  },
  {
   "cell_type": "code",
   "execution_count": 40,
   "metadata": {},
   "outputs": [],
   "source": [
    "# save item latent features to pickle file\n",
    "pickle.dump([dftrain_userauto,dftest_userauto,user_mtx_1_weights,user_mtx_2_weights,dftrain_userauto_linear,dftest_userauto_linear],open(f'{PATH}/2UserAutoencoderWeights.pkl','wb'))"
   ]
  }
 ],
 "metadata": {
  "kernelspec": {
   "display_name": "my_env",
   "language": "python",
   "name": "python3"
  },
  "language_info": {
   "codemirror_mode": {
    "name": "ipython",
    "version": 3
   },
   "file_extension": ".py",
   "mimetype": "text/x-python",
   "name": "python",
   "nbconvert_exporter": "python",
   "pygments_lexer": "ipython3",
   "version": "3.10.9"
  },
  "orig_nbformat": 4,
  "vscode": {
   "interpreter": {
    "hash": "483448e20d2d4b2c0e474daa32b154ce090ec41173ad5eb38e41a0879ee7273d"
   }
  }
 },
 "nbformat": 4,
 "nbformat_minor": 2
}
