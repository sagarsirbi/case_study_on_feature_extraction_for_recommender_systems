{
 "cells": [
  {
   "attachments": {},
   "cell_type": "markdown",
   "metadata": {},
   "source": [
    "#### ITEM AUTOENCODER MODEL"
   ]
  },
  {
   "cell_type": "code",
   "execution_count": 34,
   "metadata": {},
   "outputs": [],
   "source": [
    "PATH = '/home/g056122/DAFERS'\n",
    "DATAPATH = '/home/g056122/ISG_studienarbeit/ml-1m'"
   ]
  },
  {
   "cell_type": "code",
   "execution_count": 35,
   "metadata": {},
   "outputs": [],
   "source": [
    "''' \n",
    "Load 'autoencoder' module from 'Module' folder\n",
    "'''\n",
    "# import required libraries\n",
    "import pandas as pd\n",
    "import numpy as np\n",
    "import os\n",
    "import datetime\n",
    "import sklearn\n",
    "import torch\n",
    "import pickle\n",
    "import matplotlib.pyplot as plt\n",
    "from autoencoder import modeldata\n",
    "from torch.utils.data import Dataset, DataLoader\n",
    "from torch import nn\n",
    "from scipy.special import expit\n",
    "import seaborn as sns"
   ]
  },
  {
   "cell_type": "code",
   "execution_count": 36,
   "metadata": {},
   "outputs": [],
   "source": [
    "# import movies data preparation file\n",
    "[df, dftrain, dftest, df, dfratings, idx_to_user, idx_to_movie, movie_to_idx, user_to_idx]=pickle.load(open(f'{PATH}/1MoviesData.pkl','rb'))"
   ]
  },
  {
   "attachments": {},
   "cell_type": "markdown",
   "metadata": {},
   "source": [
    "DATASET AND DATALOADER"
   ]
  },
  {
   "cell_type": "code",
   "execution_count": 37,
   "metadata": {},
   "outputs": [],
   "source": [
    "# load dataset for the model\n",
    "dstrain=modeldata(dftrain, dftest)"
   ]
  },
  {
   "cell_type": "code",
   "execution_count": 38,
   "metadata": {},
   "outputs": [
    {
     "data": {
      "text/plain": [
       "116"
      ]
     },
     "execution_count": 38,
     "metadata": {},
     "output_type": "execute_result"
    }
   ],
   "source": [
    "# create a dataloader object\n",
    "# batch size\n",
    "bs=32 \n",
    "dltrain=DataLoader(dstrain,batch_size=bs,shuffle=False)\n",
    "# print length\n",
    "len(dltrain)"
   ]
  },
  {
   "attachments": {},
   "cell_type": "markdown",
   "metadata": {},
   "source": [
    "MODEL ARCHITECTURE"
   ]
  },
  {
   "cell_type": "code",
   "execution_count": 39,
   "metadata": {},
   "outputs": [],
   "source": [
    "# model architecture\n",
    "def hidden_layer(x,y,dropout,activation=nn.Sigmoid()):\n",
    "    return nn.Sequential(\n",
    "        nn.Linear(x, y),\n",
    "        activation,\n",
    "        nn.Dropout(p=dropout),\n",
    "        nn.BatchNorm1d(y)\n",
    "        )   "
   ]
  },
  {
   "cell_type": "code",
   "execution_count": 40,
   "metadata": {},
   "outputs": [],
   "source": [
    "# create subclass for neural network module\n",
    "class autoencoder (nn.Module):    \n",
    "    def __init__(self,n_inp,hidden=[50,10],dropouts=[0,0,0],rating_range=[0.5,5]):\n",
    "        # call parent class constructor in subclass using super function\n",
    "        super().__init__()\n",
    "        self.n_inp, self.hidden, self.dropouts, self.rating_range = \\\n",
    "            n_inp, hidden, dropouts, rating_range\n",
    "        encoder=[hidden_layer(n_inp if i==0 else hidden[i-1], hidden[i], dropouts[i]) for i in range(len(hidden))]\n",
    "        # unpack hidden layer objects in the sequential container\n",
    "        self.encoder=nn.Sequential(*encoder)\n",
    "        # reverse the order of elements in hidden list\n",
    "        hidden=hidden[::-1]\n",
    "        num_steps=len(hidden)-1\n",
    "        dropouts=dropouts[num_steps:]\n",
    "        # create hidden layer object list for decoder\n",
    "        decoder=[hidden_layer(hidden[i],hidden[i+1] if i < num_steps else n_inp, dropouts[i]) for i in range(len(hidden)-1)]\n",
    "        # unpack object list in the sequential \n",
    "        self.decoder=nn.Sequential(*decoder)\n",
    "        # fully connected layer\n",
    "        self.fc=nn.Linear(hidden[-1],n_inp)\n",
    "        # initialize the weight and the bias values of the network's layers\n",
    "        self.initialize()\n",
    "        # define loss function for the model\n",
    "        self.criterion=nn.MSELoss()\n",
    "    \n",
    "    # function to initialize the weights of layers for encoder and decoder\n",
    "    def initialize(self):\n",
    "        ''' \n",
    "        Function to initialize the weights for the layers\n",
    "        '''\n",
    "        for x in self.encoder:\n",
    "            # initialize weight parameter using the Kaiming normal initialization\n",
    "            nn.init.kaiming_normal_(x[0].weight.data)\n",
    "        for x in self.decoder:\n",
    "            nn.init.kaiming_normal_(x[0].weight.data)\n",
    "\n",
    "    def forward (self,Xb):\n",
    "        ''' \n",
    "        Function to perform forward pass\n",
    "        \n",
    "        Returns: test predictions, training loss, training predictions\n",
    "        '''\n",
    "        encoded=self.encoder(Xb)\n",
    "        decoded=self.decoder(encoded)\n",
    "        out=self.fc(decoded)\n",
    "        # deep copy of predictions for the model\n",
    "        outv=out.clone()\n",
    "        # final output set to 0 if Xb is set 0\n",
    "        out[Xb==0]=0\n",
    "        # compute loss\n",
    "        loss=self.criterion(out,Xb)\n",
    "        # return original cloned output, loss and final output\n",
    "        return outv, loss, out"
   ]
  },
  {
   "attachments": {},
   "cell_type": "markdown",
   "metadata": {},
   "source": [
    "LEARNER"
   ]
  },
  {
   "cell_type": "code",
   "execution_count": 41,
   "metadata": {},
   "outputs": [],
   "source": [
    "class Learner():\n",
    "    def __init__(self,model,optimizer,metric_fn,device,bptt=12,print_every=5,clip_val=None,\\\n",
    "                 cycle_mult=0,lr_decay=0.7,wd_mult=6,start_lr=2e-2, end_lr=5e-4):\n",
    "        self.model, self.optimizer, self.metric_fn, self.print_every, self.bptt, self.losses, self.clip_val = \\\n",
    "            model, optimizer, metric_fn, print_every, bptt, [], clip_val\n",
    "        self.n_epochs = 1\n",
    "        self.cycle_mult, self.lr_decay = cycle_mult, lr_decay\n",
    "        self.wd_mult=wd_mult\n",
    "        for param_group in self.optimizer.param_groups:\n",
    "            self.start_lr=param_group['lr']\n",
    "            self.start_wd=param_group['weight_decay']\n",
    "        self.wd=self.start_wd\n",
    "        self.lr=self.start_lr\n",
    "        self.end_lr=end_lr\n",
    "        self.n_epoch=0\n",
    "        self.lrs=[1e-2,5e-3,1e-4,5e-4]\n",
    "        self.preds, self.preds_test, self.trainY, self.actual=[],[],[],[]\n",
    "        self.ratio=self.end_lr/self.start_lr\n",
    "        self.num_steps=self.cycle_mult\n",
    "        self.reset_cycle=self.cycle_mult\n",
    "        \n",
    "    def fit (self,Xb,Xb_v,mode_train=True):\n",
    "        ''' \n",
    "        Function to make predictions and compute losses for the model with given data\n",
    "\n",
    "        Arguments:\n",
    "            Xb: Training data\n",
    "            Xb_v: Test data\n",
    "\n",
    "        Returns: Predictions and Losses for the model\n",
    "        '''\n",
    "        if mode_train:\n",
    "            self.model.train()\n",
    "        else:\n",
    "            self.model.eval()\n",
    "        \n",
    "        preds,loss,preds_train=self.model(Xb)\n",
    "\n",
    "        mean_corrector = Xb.size(0)*Xb.size(1)/(torch.sum(Xb > 0).float() + 1e-10)\n",
    "        mean_corrector_v = Xb_v.size(0)*Xb_v.size(1)/(torch.sum(Xb_v > 0).float() + 1e-10)\n",
    "        # denominator is the average of the error with non-zero ratings\n",
    "\n",
    "        with torch.no_grad():\n",
    "            preds[Xb_v==0]=0\n",
    "            loss_v=self.model.criterion(preds,Xb_v)\n",
    "            # The value of the loss_v tensor can then be used to update the model's parameters and optimize its performance.\n",
    "            \n",
    "            if self.metric_fn is not None:\n",
    "                acc=self.metric_fn(preds,Yb.view(-1))\n",
    "                acc=acc.item()\n",
    "\n",
    "                if 1==0:\n",
    "                    if mode_train:\n",
    "                        self.trainY.append(Yb.view(-1))\n",
    "                        self.preds.append(preds.data)\n",
    "                    else:\n",
    "                        self.actual.append(Yb.view(-1))\n",
    "                        self.preds_test.append(preds.data)\n",
    "            else:\n",
    "                acc=0\n",
    "                acc_v=0\n",
    "            del preds\n",
    "        \n",
    "        if mode_train:\n",
    "            if 1==0:\n",
    "                lr =self.lrs[torch.randint(0,4,(1,))]\n",
    "                for param_group in self.optimizer.param_groups:\n",
    "                    param_group['lr']=lr\n",
    "            \n",
    "            # clear gradients of all optimized parameters. This method is typically called before computing the gradients of the model's parameters with backward() method\n",
    "            self.optimizer.zero_grad()\n",
    "            # compute gradients of loss with respect to paramters of neural network\n",
    "            loss.backward()\n",
    "            # optimizer updates the parameters\n",
    "            self.optimizer.step()\n",
    "        # compute train and Test loss\n",
    "        myloss=torch.sqrt(loss.item()*mean_corrector)\n",
    "        myloss_v=torch.sqrt(loss_v.item()*mean_corrector_v)\n",
    "        del loss\n",
    "        \n",
    "        if self.clip_val is not None:\n",
    "            torch.nn.utils.clip_grad_norm_(self.model.parameters(), self.clip_val)\n",
    "        \n",
    "        return myloss, acc,myloss_v,acc_v\n",
    "    \n",
    "    def lr_find (self,start_lr,end_lr,iterator,n_batch):\n",
    "        ''' \n",
    "        Function to determine optimal learning rate for training the model\n",
    "        '''\n",
    "        losses,lrs=[],[]\n",
    "        ratio=end_lr/start_lr\n",
    "        num_steps=n_batch\n",
    "        lr=start_lr\n",
    "        for i in range(num_steps): \n",
    "            # learning rate schedule to gradually decrease the learning rate over time           \n",
    "            lr=lr*(end_lr/start_lr)**(1/num_steps)\n",
    "            lrs.append(lr)\n",
    "        self.lrs=lrs\n",
    "        self.run_epoch(iterator,mode_train=True,lrs=lrs)\n",
    "    \n",
    "    def run_epoch(self,iterator,mode_train,lrs=None):\n",
    "        ''' \n",
    "        Function to train the model for one epoch\n",
    "        '''\n",
    "        epoch_loss,epoch_acc,i,k=0,0,0,0\n",
    "        epoch_loss_v,epoch_acc_v=0,0\n",
    "\n",
    "        for Xb,Xb_v in iterator:\n",
    "            Xb=Xb\n",
    "            Xb_v=Xb_v\n",
    "            if lrs is not None:\n",
    "                lr=lrs[k]\n",
    "                for param_group in self.optimizer.param_groups:\n",
    "                    param_group['lr']=lr \n",
    "            \n",
    "            loss,acc,loss_v,acc_v=self.fit(Xb,Xb_v,mode_train)\n",
    "            \n",
    "            if lrs is not None:\n",
    "                self.losses.append(loss)\n",
    "            \n",
    "            epoch_loss+=loss\n",
    "            epoch_acc+=acc\n",
    "            epoch_loss_v+=loss_v\n",
    "            epoch_acc_v+=acc_v\n",
    "            \n",
    "            k=k+1\n",
    "            # if k%self.print_every == 0:\n",
    "            #     if k:\n",
    "                    # print (f'Batch:{k} Train Loss: {epoch_loss/(k)} Test Loss: {epoch_loss_v/(k)} ')  \n",
    "        epoch_loss=epoch_loss/len(iterator)\n",
    "        epoch_acc=epoch_acc/len(iterator)\n",
    "        epoch_loss_v=epoch_loss_v/len(iterator)\n",
    "        epoch_acc_v=epoch_acc_v/len(iterator)\n",
    "            \n",
    "        return epoch_loss,epoch_acc,epoch_loss_v,epoch_acc_v\n",
    "    \n",
    "    def plot_lrs(self, n_roll=1,ylim=None,xlim=None):\n",
    "        ''' \n",
    "        Function to plot graph of learning rate vs loss\n",
    "        '''\n",
    "        ax=sns.lineplot(x=self.lrs,y=pd.Series(self.losses).rolling(n_roll).mean())\n",
    "        ax.set_xscale('log')\n",
    "        ax.set_ylabel('Loss')\n",
    "        ax.set_xlabel('Learning Rate')\n",
    "        if ylim is not None:\n",
    "            plt.ylim(ylim)\n",
    "        if xlim is not None:\n",
    "            plt.xlim(xlim)\n",
    "\n",
    "    def run_epochs(self,dltrain,dltest,n_epochs=1):\n",
    "        ''' \n",
    "        Function to run epochs for n times\n",
    "        '''      \n",
    "        for epoch in range(n_epochs):                \n",
    "\n",
    "            loss,acc,lossv,accv=self.run_epoch(dltrain,True)\n",
    "            print (f'Epoch:{epoch} Learning rate {self.lr} Weight Decay {self.wd} Train Loss:{loss}  Test Loss:{lossv} ')\n",
    "  \n",
    "            if self.cycle_mult:\n",
    "                if self.n_epoch==self.reset_cycle:\n",
    "                    self.lr=self.start_lr\n",
    "                    self.reset_cycle*=1\n",
    "                    self.n_epoch=0\n",
    "                    self.ratio=self.end_lr/self.start_lr\n",
    "                    self.num_steps=self.reset_cycle\n",
    "                else:\n",
    "                    self.lr=self.lr*(self.end_lr/self.start_lr)**(1/self.num_steps)\n",
    "                    self.n_epoch+=1\n",
    "    \n",
    "            for param_group in self.optimizer.param_groups:\n",
    "                param_group['lr']=self.lr"
   ]
  },
  {
   "cell_type": "code",
   "execution_count": 42,
   "metadata": {},
   "outputs": [],
   "source": [
    "# model architecture object\n",
    "autoencoderobj=autoencoder(dftrain.shape[1],[100, 25],[0.2,0.2,0.2])\n",
    "# optimizer\n",
    "optimizer=torch.optim.Adam(autoencoderobj.parameters(),lr=7e-3,betas=(0.9,0.999), weight_decay=1e-7)\n",
    "# learner object\n",
    "learner=Learner(autoencoderobj,optimizer,None,0,1000,0.25,cycle_mult=0,start_lr=7e-3,end_lr=1e-4)"
   ]
  },
  {
   "cell_type": "code",
   "execution_count": 43,
   "metadata": {},
   "outputs": [],
   "source": [
    "# find optimal learning rate \n",
    "learner.lr_find(1e-4,3e-1,dltrain,len(dltrain))"
   ]
  },
  {
   "cell_type": "code",
   "execution_count": 44,
   "metadata": {},
   "outputs": [
    {
     "data": {
      "image/png": "[encoded data removed]",
      "text/plain": [
       "<Figure size 640x480 with 1 Axes>"
      ]
     },
     "metadata": {},
     "output_type": "display_data"
    }
   ],
   "source": [
    "# plot for learning rate schedule\n",
    "learner.plot_lrs(10)"
   ]
  },
  {
   "cell_type": "code",
   "execution_count": 45,
   "metadata": {},
   "outputs": [],
   "source": [
    "# model architecture object\n",
    "autoencoderobj=autoencoder(dftrain.shape[1],[100, 25],[0.2,0.2,0.2])\n",
    "# optimizer\n",
    "optimizer=torch.optim.Adam(autoencoderobj.parameters(),lr=7e-3,betas=(0.9,0.999), weight_decay=1e-7)\n",
    "# learner object\n",
    "learner=Learner(autoencoderobj,optimizer,None,0,1000,0.25,cycle_mult=10,start_lr=7e-3,end_lr=5e-4)"
   ]
  },
  {
   "cell_type": "code",
   "execution_count": 46,
   "metadata": {},
   "outputs": [
    {
     "name": "stdout",
     "output_type": "stream",
     "text": [
      "Epoch:0 Learning rate 0.007 Weight Decay 1e-07 Train Loss:1.8956841230392456  Test Loss:1.8981112241744995 \n",
      "Epoch:1 Learning rate 0.005376321563621647 Weight Decay 1e-07 Train Loss:1.131198763847351  Test Loss:1.131744384765625 \n",
      "Epoch:2 Learning rate 0.004129261936494729 Weight Decay 1e-07 Train Loss:1.0296928882598877  Test Loss:1.0330270528793335 \n",
      "Epoch:3 Learning rate 0.003171462855859813 Weight Decay 1e-07 Train Loss:0.999305009841919  Test Loss:1.0021061897277832 \n",
      "Epoch:4 Learning rate 0.0024358291628834576 Weight Decay 1e-07 Train Loss:0.9913328289985657  Test Loss:0.9934198260307312 \n",
      "Epoch:5 Learning rate 0.001870828693386971 Weight Decay 1e-07 Train Loss:0.9765175580978394  Test Loss:0.9790075421333313 \n",
      "Epoch:6 Learning rate 0.0014368823780140688 Weight Decay 1e-07 Train Loss:0.9705874919891357  Test Loss:0.9727001786231995 \n",
      "Epoch:7 Learning rate 0.001103591673329284 Weight Decay 1e-07 Train Loss:0.9660966396331787  Test Loss:0.9682797789573669 \n",
      "Epoch:8 Learning rate 0.0008476091015362178 Weight Decay 1e-07 Train Loss:0.9657067656517029  Test Loss:0.9674392342567444 \n",
      "Epoch:9 Learning rate 0.000651002727158734 Weight Decay 1e-07 Train Loss:0.9651822447776794  Test Loss:0.9688451886177063 \n"
     ]
    }
   ],
   "source": [
    "learner.run_epochs(dltrain,None,10)"
   ]
  },
  {
   "attachments": {},
   "cell_type": "markdown",
   "metadata": {},
   "source": [
    "SAVE"
   ]
  },
  {
   "cell_type": "code",
   "execution_count": 47,
   "metadata": {},
   "outputs": [],
   "source": [
    "# save model archeitecture, classes and functions\n",
    "torch.save(autoencoderobj,f=f'{PATH}/3ItemAutoencoder')\n",
    "torch.save(learner,f=f'{PATH}/3ItemAutoencoderLearner')\n",
    "torch.save(optimizer,f=f'{PATH}/3ItemAutoencoderOptimizer')\n",
    "# dictionary containing all the information required to recreate a model archeitecture and state i.e. parameters and buffers of the model.\n",
    "torch.save(autoencoderobj.state_dict(),f'{PATH}/3ItemAutoencoderStateDict')\n",
    "torch.save(optimizer.state_dict(),f'{PATH}/3ItemAutoencoderOptimizerStateDict')"
   ]
  },
  {
   "attachments": {},
   "cell_type": "markdown",
   "metadata": {},
   "source": [
    "DATA PREPARATION FOR ITEM AUTOENCODER LATENT FEATURES"
   ]
  },
  {
   "cell_type": "code",
   "execution_count": 48,
   "metadata": {},
   "outputs": [],
   "source": [
    "# convert encoder layer weights to a numpy array\n",
    "item_mtx_1_weights=autoencoderobj.encoder[0][0].weight.data.cpu().numpy()\n",
    "item_mtx_2_weights=autoencoderobj.encoder[1][0].weight.data.cpu().numpy()"
   ]
  },
  {
   "cell_type": "code",
   "execution_count": 49,
   "metadata": {},
   "outputs": [],
   "source": [
    "# Matrix multiplication\n",
    "# expit function squashes the input value between 0 and 1\n",
    "dftrain_itemauto=expit(dftrain@item_mtx_1_weights.T)@item_mtx_2_weights.T\n",
    "dftest_itemauto=expit(dftest@item_mtx_1_weights.T)@item_mtx_2_weights.T\n",
    "dftrain_itemauto_linear=(dftrain@item_mtx_1_weights.T)@item_mtx_2_weights.T\n",
    "dftest_itemauto_linear=(dftest@item_mtx_1_weights.T)@item_mtx_2_weights.T"
   ]
  },
  {
   "cell_type": "code",
   "execution_count": 50,
   "metadata": {},
   "outputs": [],
   "source": [
    "# convert arrays to pandas dataframe\n",
    "dftrain_itemauto=pd.DataFrame(dftrain_itemauto)\n",
    "dftest_itemauto=pd.DataFrame(dftest_itemauto)\n",
    "dftrain_itemauto_linear=pd.DataFrame(dftrain_itemauto_linear)\n",
    "dftest_itemauto_linear=pd.DataFrame(dftest_itemauto_linear)"
   ]
  },
  {
   "cell_type": "code",
   "execution_count": 51,
   "metadata": {},
   "outputs": [],
   "source": [
    "# define columns for training dataframe\n",
    "dftrain_itemauto.columns=['item_autoenc'+str(i) for i in range(dftrain_itemauto.shape[1])]\n",
    "dftrain_itemauto_linear.columns=['item_autoenc_linear'+str(i) for i in range(dftrain_itemauto_linear.shape[1])]\n",
    "# define weights for testing dataframe\n",
    "dftest_itemauto.columns=['item_autoenc'+str(i) for i in range(dftest_itemauto.shape[1])]\n",
    "dftest_itemauto_linear.columns=['item_autoenc'+str(i) for i in range(dftest_itemauto_linear.shape[1])]"
   ]
  },
  {
   "cell_type": "code",
   "execution_count": 52,
   "metadata": {},
   "outputs": [],
   "source": [
    "# reset index\n",
    "dftrain_itemauto.reset_index(inplace=True)\n",
    "dftest_itemauto.reset_index(inplace=True)"
   ]
  },
  {
   "cell_type": "code",
   "execution_count": 53,
   "metadata": {},
   "outputs": [],
   "source": [
    "# rename indices\n",
    "dftrain_itemauto.rename({'index':'item_idx'},axis=1,inplace=True)\n",
    "dftest_itemauto.rename({'index':'item_idx'},axis=1,inplace=True)"
   ]
  },
  {
   "cell_type": "code",
   "execution_count": 54,
   "metadata": {},
   "outputs": [],
   "source": [
    "# save item latent features in pickle file\n",
    "pickle.dump([dftrain_itemauto, dftest_itemauto,item_mtx_1_weights,item_mtx_2_weights,dftrain_itemauto_linear, dftest_itemauto_linear],open(f'{PATH}/3ItemAutoencoderWeights.pkl','wb'))"
   ]
  }
 ],
 "metadata": {
  "kernelspec": {
   "display_name": "my_env",
   "language": "python",
   "name": "python3"
  },
  "language_info": {
   "codemirror_mode": {
    "name": "ipython",
    "version": 3
   },
   "file_extension": ".py",
   "mimetype": "text/x-python",
   "name": "python",
   "nbconvert_exporter": "python",
   "pygments_lexer": "ipython3",
   "version": "3.10.9"
  },
  "orig_nbformat": 4,
  "vscode": {
   "interpreter": {
    "hash": "483448e20d2d4b2c0e474daa32b154ce090ec41173ad5eb38e41a0879ee7273d"
   }
  }
 },
 "nbformat": 4,
 "nbformat_minor": 2
}
