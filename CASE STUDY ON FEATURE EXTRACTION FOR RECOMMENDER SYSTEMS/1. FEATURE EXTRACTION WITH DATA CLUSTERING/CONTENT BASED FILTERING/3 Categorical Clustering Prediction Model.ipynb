{
 "cells": [
  {
   "cell_type": "code",
   "execution_count": 13,
   "metadata": {},
   "outputs": [],
   "source": [
    "PATH = '/home/g056122/FeatExt_Data_Clustering/final_github/content_based_filtering/'"
   ]
  },
  {
   "cell_type": "code",
   "execution_count": 14,
   "metadata": {},
   "outputs": [],
   "source": [
    "DATAPATH = '/home/g056122/ISG_studienarbeit/Movielens_100K'"
   ]
  },
  {
   "cell_type": "code",
   "execution_count": 15,
   "metadata": {},
   "outputs": [],
   "source": [
    "''' \n",
    "Load 'validate', 'euclid' and 'valres' module available in 'Module' folder\n",
    "'''\n",
    "# import required libraries\n",
    "import numpy as np\n",
    "import pandas as pd\n",
    "import datetime\n",
    "from kmodes.kmodes import KModes\n",
    "import matplotlib.pyplot as plt\n",
    "from sklearn.preprocessing import LabelEncoder, MinMaxScaler\n",
    "from validate import evaluation\n",
    "from euclid import EuclideanDistance\n",
    "from valres import result\n",
    "from sklearn.metrics import mean_squared_error,mean_absolute_error \n",
    "from sklearn.ensemble import RandomForestRegressor"
   ]
  },
  {
   "cell_type": "code",
   "execution_count": 16,
   "metadata": {},
   "outputs": [],
   "source": [
    "# import movies dataset\n",
    "dfmovies = pd.read_csv(\"/home/g056122/ISG_studienarbeit/Movielens_100K/u.item\", sep='|', header=None, engine='python', encoding='latin-1')\n",
    "dfmovies.columns = ['movieId', 'movietitle', 'releasedate', 'videoreleasedate','imdburl', 'unknown', 'action', 'adventure', 'animation','childrens', 'comedy', 'crime', 'documentary', 'drama', 'fantasy', 'film-Noir', 'horror', 'musical', 'mystery', 'romance', 'sci-fi','thriller', 'war', 'western']"
   ]
  },
  {
   "cell_type": "code",
   "execution_count": 17,
   "metadata": {},
   "outputs": [],
   "source": [
    "# drop videoreleasedate and imdburl feature\n",
    "dfmovies = dfmovies.drop(['videoreleasedate', 'imdburl'], axis=1)"
   ]
  },
  {
   "cell_type": "code",
   "execution_count": 18,
   "metadata": {},
   "outputs": [],
   "source": [
    "# year feature transformation\n",
    "dfmovies['releasedate'] = pd.to_datetime (dfmovies['releasedate'], format='%d-%b-%Y')\n",
    "dfmovies['year']=dfmovies['releasedate'].dt.year"
   ]
  },
  {
   "cell_type": "code",
   "execution_count": 19,
   "metadata": {},
   "outputs": [
    {
     "data": {
      "text/html": [
       "<div>\n",
       "<style scoped>\n",
       "    .dataframe tbody tr th:only-of-type {\n",
       "        vertical-align: middle;\n",
       "    }\n",
       "\n",
       "    .dataframe tbody tr th {\n",
       "        vertical-align: top;\n",
       "    }\n",
       "\n",
       "    .dataframe thead th {\n",
       "        text-align: right;\n",
       "    }\n",
       "</style>\n",
       "<table border=\"1\" class=\"dataframe\">\n",
       "  <thead>\n",
       "    <tr style=\"text-align: right;\">\n",
       "      <th></th>\n",
       "      <th>movieId</th>\n",
       "      <th>movietitle</th>\n",
       "      <th>releasedate</th>\n",
       "      <th>unknown</th>\n",
       "      <th>action</th>\n",
       "      <th>adventure</th>\n",
       "      <th>animation</th>\n",
       "      <th>childrens</th>\n",
       "      <th>comedy</th>\n",
       "      <th>crime</th>\n",
       "      <th>...</th>\n",
       "      <th>film-Noir</th>\n",
       "      <th>horror</th>\n",
       "      <th>musical</th>\n",
       "      <th>mystery</th>\n",
       "      <th>romance</th>\n",
       "      <th>sci-fi</th>\n",
       "      <th>thriller</th>\n",
       "      <th>war</th>\n",
       "      <th>western</th>\n",
       "      <th>year</th>\n",
       "    </tr>\n",
       "  </thead>\n",
       "  <tbody>\n",
       "    <tr>\n",
       "      <th>0</th>\n",
       "      <td>1</td>\n",
       "      <td>Toy Story (1995)</td>\n",
       "      <td>1995-01-01</td>\n",
       "      <td>0</td>\n",
       "      <td>0</td>\n",
       "      <td>0</td>\n",
       "      <td>1</td>\n",
       "      <td>1</td>\n",
       "      <td>1</td>\n",
       "      <td>0</td>\n",
       "      <td>...</td>\n",
       "      <td>0</td>\n",
       "      <td>0</td>\n",
       "      <td>0</td>\n",
       "      <td>0</td>\n",
       "      <td>0</td>\n",
       "      <td>0</td>\n",
       "      <td>0</td>\n",
       "      <td>0</td>\n",
       "      <td>0</td>\n",
       "      <td>1995.0</td>\n",
       "    </tr>\n",
       "    <tr>\n",
       "      <th>1</th>\n",
       "      <td>2</td>\n",
       "      <td>GoldenEye (1995)</td>\n",
       "      <td>1995-01-01</td>\n",
       "      <td>0</td>\n",
       "      <td>1</td>\n",
       "      <td>1</td>\n",
       "      <td>0</td>\n",
       "      <td>0</td>\n",
       "      <td>0</td>\n",
       "      <td>0</td>\n",
       "      <td>...</td>\n",
       "      <td>0</td>\n",
       "      <td>0</td>\n",
       "      <td>0</td>\n",
       "      <td>0</td>\n",
       "      <td>0</td>\n",
       "      <td>0</td>\n",
       "      <td>1</td>\n",
       "      <td>0</td>\n",
       "      <td>0</td>\n",
       "      <td>1995.0</td>\n",
       "    </tr>\n",
       "    <tr>\n",
       "      <th>2</th>\n",
       "      <td>3</td>\n",
       "      <td>Four Rooms (1995)</td>\n",
       "      <td>1995-01-01</td>\n",
       "      <td>0</td>\n",
       "      <td>0</td>\n",
       "      <td>0</td>\n",
       "      <td>0</td>\n",
       "      <td>0</td>\n",
       "      <td>0</td>\n",
       "      <td>0</td>\n",
       "      <td>...</td>\n",
       "      <td>0</td>\n",
       "      <td>0</td>\n",
       "      <td>0</td>\n",
       "      <td>0</td>\n",
       "      <td>0</td>\n",
       "      <td>0</td>\n",
       "      <td>1</td>\n",
       "      <td>0</td>\n",
       "      <td>0</td>\n",
       "      <td>1995.0</td>\n",
       "    </tr>\n",
       "    <tr>\n",
       "      <th>3</th>\n",
       "      <td>4</td>\n",
       "      <td>Get Shorty (1995)</td>\n",
       "      <td>1995-01-01</td>\n",
       "      <td>0</td>\n",
       "      <td>1</td>\n",
       "      <td>0</td>\n",
       "      <td>0</td>\n",
       "      <td>0</td>\n",
       "      <td>1</td>\n",
       "      <td>0</td>\n",
       "      <td>...</td>\n",
       "      <td>0</td>\n",
       "      <td>0</td>\n",
       "      <td>0</td>\n",
       "      <td>0</td>\n",
       "      <td>0</td>\n",
       "      <td>0</td>\n",
       "      <td>0</td>\n",
       "      <td>0</td>\n",
       "      <td>0</td>\n",
       "      <td>1995.0</td>\n",
       "    </tr>\n",
       "    <tr>\n",
       "      <th>4</th>\n",
       "      <td>5</td>\n",
       "      <td>Copycat (1995)</td>\n",
       "      <td>1995-01-01</td>\n",
       "      <td>0</td>\n",
       "      <td>0</td>\n",
       "      <td>0</td>\n",
       "      <td>0</td>\n",
       "      <td>0</td>\n",
       "      <td>0</td>\n",
       "      <td>1</td>\n",
       "      <td>...</td>\n",
       "      <td>0</td>\n",
       "      <td>0</td>\n",
       "      <td>0</td>\n",
       "      <td>0</td>\n",
       "      <td>0</td>\n",
       "      <td>0</td>\n",
       "      <td>1</td>\n",
       "      <td>0</td>\n",
       "      <td>0</td>\n",
       "      <td>1995.0</td>\n",
       "    </tr>\n",
       "  </tbody>\n",
       "</table>\n",
       "<p>5 rows × 23 columns</p>\n",
       "</div>"
      ],
      "text/plain": [
       "   movieId         movietitle releasedate  unknown  action  adventure  \\\n",
       "0        1   Toy Story (1995)  1995-01-01        0       0          0   \n",
       "1        2   GoldenEye (1995)  1995-01-01        0       1          1   \n",
       "2        3  Four Rooms (1995)  1995-01-01        0       0          0   \n",
       "3        4  Get Shorty (1995)  1995-01-01        0       1          0   \n",
       "4        5     Copycat (1995)  1995-01-01        0       0          0   \n",
       "\n",
       "   animation  childrens  comedy  crime  ...  film-Noir  horror  musical  \\\n",
       "0          1          1       1      0  ...          0       0        0   \n",
       "1          0          0       0      0  ...          0       0        0   \n",
       "2          0          0       0      0  ...          0       0        0   \n",
       "3          0          0       1      0  ...          0       0        0   \n",
       "4          0          0       0      1  ...          0       0        0   \n",
       "\n",
       "   mystery  romance  sci-fi  thriller  war  western    year  \n",
       "0        0        0       0         0    0        0  1995.0  \n",
       "1        0        0       0         1    0        0  1995.0  \n",
       "2        0        0       0         1    0        0  1995.0  \n",
       "3        0        0       0         0    0        0  1995.0  \n",
       "4        0        0       0         1    0        0  1995.0  \n",
       "\n",
       "[5 rows x 23 columns]"
      ]
     },
     "execution_count": 19,
     "metadata": {},
     "output_type": "execute_result"
    }
   ],
   "source": [
    "dfmovies.head()"
   ]
  },
  {
   "cell_type": "code",
   "execution_count": 20,
   "metadata": {},
   "outputs": [],
   "source": [
    "# encode year feature\n",
    "n_dfmovies = pd.get_dummies(dfmovies, columns = ['year'])"
   ]
  },
  {
   "cell_type": "code",
   "execution_count": 21,
   "metadata": {},
   "outputs": [],
   "source": [
    "# drop features in movies dataset\n",
    "n_dfmovies = n_dfmovies.drop(['movieId', 'movietitle', 'releasedate'], axis=1)"
   ]
  },
  {
   "cell_type": "code",
   "execution_count": 22,
   "metadata": {},
   "outputs": [
    {
     "data": {
      "text/plain": [
       "(   unknown  action  adventure  animation  childrens  comedy  crime  \\\n",
       " 0        0       0          0          1          1       1      0   \n",
       " 1        0       1          1          0          0       0      0   \n",
       " 2        0       0          0          0          0       0      0   \n",
       " 3        0       1          0          0          0       1      0   \n",
       " 4        0       0          0          0          0       0      1   \n",
       " \n",
       "    documentary  drama  fantasy  ...  year_1989.0  year_1990.0  year_1991.0  \\\n",
       " 0            0      0        0  ...            0            0            0   \n",
       " 1            0      0        0  ...            0            0            0   \n",
       " 2            0      0        0  ...            0            0            0   \n",
       " 3            0      1        0  ...            0            0            0   \n",
       " 4            0      1        0  ...            0            0            0   \n",
       " \n",
       "    year_1992.0  year_1993.0  year_1994.0  year_1995.0  year_1996.0  \\\n",
       " 0            0            0            0            1            0   \n",
       " 1            0            0            0            1            0   \n",
       " 2            0            0            0            1            0   \n",
       " 3            0            0            0            1            0   \n",
       " 4            0            0            0            1            0   \n",
       " \n",
       "    year_1997.0  year_1998.0  \n",
       " 0            0            0  \n",
       " 1            0            0  \n",
       " 2            0            0  \n",
       " 3            0            0  \n",
       " 4            0            0  \n",
       " \n",
       " [5 rows x 90 columns],\n",
       " (1682, 90))"
      ]
     },
     "execution_count": 22,
     "metadata": {},
     "output_type": "execute_result"
    }
   ],
   "source": [
    "n_dfmovies.head(), n_dfmovies.shape"
   ]
  },
  {
   "cell_type": "code",
   "execution_count": 23,
   "metadata": {},
   "outputs": [
    {
     "data": {
      "text/html": [
       "<div>\n",
       "<style scoped>\n",
       "    .dataframe tbody tr th:only-of-type {\n",
       "        vertical-align: middle;\n",
       "    }\n",
       "\n",
       "    .dataframe tbody tr th {\n",
       "        vertical-align: top;\n",
       "    }\n",
       "\n",
       "    .dataframe thead th {\n",
       "        text-align: right;\n",
       "    }\n",
       "</style>\n",
       "<table border=\"1\" class=\"dataframe\">\n",
       "  <thead>\n",
       "    <tr style=\"text-align: right;\">\n",
       "      <th></th>\n",
       "      <th>unknown</th>\n",
       "      <th>action</th>\n",
       "      <th>adventure</th>\n",
       "      <th>animation</th>\n",
       "      <th>childrens</th>\n",
       "      <th>comedy</th>\n",
       "      <th>crime</th>\n",
       "      <th>documentary</th>\n",
       "      <th>drama</th>\n",
       "      <th>fantasy</th>\n",
       "      <th>...</th>\n",
       "      <th>year_1989.0</th>\n",
       "      <th>year_1990.0</th>\n",
       "      <th>year_1991.0</th>\n",
       "      <th>year_1992.0</th>\n",
       "      <th>year_1993.0</th>\n",
       "      <th>year_1994.0</th>\n",
       "      <th>year_1995.0</th>\n",
       "      <th>year_1996.0</th>\n",
       "      <th>year_1997.0</th>\n",
       "      <th>year_1998.0</th>\n",
       "    </tr>\n",
       "  </thead>\n",
       "  <tbody>\n",
       "    <tr>\n",
       "      <th>count</th>\n",
       "      <td>1682.000000</td>\n",
       "      <td>1682.000000</td>\n",
       "      <td>1682.000000</td>\n",
       "      <td>1682.000000</td>\n",
       "      <td>1682.000000</td>\n",
       "      <td>1682.000000</td>\n",
       "      <td>1682.000000</td>\n",
       "      <td>1682.000000</td>\n",
       "      <td>1682.000000</td>\n",
       "      <td>1682.00000</td>\n",
       "      <td>...</td>\n",
       "      <td>1682.000000</td>\n",
       "      <td>1682.000000</td>\n",
       "      <td>1682.00000</td>\n",
       "      <td>1682.000000</td>\n",
       "      <td>1682.000000</td>\n",
       "      <td>1682.000000</td>\n",
       "      <td>1682.000000</td>\n",
       "      <td>1682.000000</td>\n",
       "      <td>1682.000000</td>\n",
       "      <td>1682.000000</td>\n",
       "    </tr>\n",
       "    <tr>\n",
       "      <th>mean</th>\n",
       "      <td>0.001189</td>\n",
       "      <td>0.149227</td>\n",
       "      <td>0.080262</td>\n",
       "      <td>0.024970</td>\n",
       "      <td>0.072533</td>\n",
       "      <td>0.300238</td>\n",
       "      <td>0.064804</td>\n",
       "      <td>0.029727</td>\n",
       "      <td>0.431034</td>\n",
       "      <td>0.01308</td>\n",
       "      <td>...</td>\n",
       "      <td>0.008918</td>\n",
       "      <td>0.014269</td>\n",
       "      <td>0.01308</td>\n",
       "      <td>0.021998</td>\n",
       "      <td>0.074911</td>\n",
       "      <td>0.127229</td>\n",
       "      <td>0.130202</td>\n",
       "      <td>0.211058</td>\n",
       "      <td>0.170036</td>\n",
       "      <td>0.038644</td>\n",
       "    </tr>\n",
       "    <tr>\n",
       "      <th>std</th>\n",
       "      <td>0.034473</td>\n",
       "      <td>0.356418</td>\n",
       "      <td>0.271779</td>\n",
       "      <td>0.156081</td>\n",
       "      <td>0.259445</td>\n",
       "      <td>0.458498</td>\n",
       "      <td>0.246253</td>\n",
       "      <td>0.169882</td>\n",
       "      <td>0.495368</td>\n",
       "      <td>0.11365</td>\n",
       "      <td>...</td>\n",
       "      <td>0.094041</td>\n",
       "      <td>0.118632</td>\n",
       "      <td>0.11365</td>\n",
       "      <td>0.146719</td>\n",
       "      <td>0.263326</td>\n",
       "      <td>0.333329</td>\n",
       "      <td>0.336626</td>\n",
       "      <td>0.408181</td>\n",
       "      <td>0.375776</td>\n",
       "      <td>0.192803</td>\n",
       "    </tr>\n",
       "    <tr>\n",
       "      <th>min</th>\n",
       "      <td>0.000000</td>\n",
       "      <td>0.000000</td>\n",
       "      <td>0.000000</td>\n",
       "      <td>0.000000</td>\n",
       "      <td>0.000000</td>\n",
       "      <td>0.000000</td>\n",
       "      <td>0.000000</td>\n",
       "      <td>0.000000</td>\n",
       "      <td>0.000000</td>\n",
       "      <td>0.00000</td>\n",
       "      <td>...</td>\n",
       "      <td>0.000000</td>\n",
       "      <td>0.000000</td>\n",
       "      <td>0.00000</td>\n",
       "      <td>0.000000</td>\n",
       "      <td>0.000000</td>\n",
       "      <td>0.000000</td>\n",
       "      <td>0.000000</td>\n",
       "      <td>0.000000</td>\n",
       "      <td>0.000000</td>\n",
       "      <td>0.000000</td>\n",
       "    </tr>\n",
       "    <tr>\n",
       "      <th>25%</th>\n",
       "      <td>0.000000</td>\n",
       "      <td>0.000000</td>\n",
       "      <td>0.000000</td>\n",
       "      <td>0.000000</td>\n",
       "      <td>0.000000</td>\n",
       "      <td>0.000000</td>\n",
       "      <td>0.000000</td>\n",
       "      <td>0.000000</td>\n",
       "      <td>0.000000</td>\n",
       "      <td>0.00000</td>\n",
       "      <td>...</td>\n",
       "      <td>0.000000</td>\n",
       "      <td>0.000000</td>\n",
       "      <td>0.00000</td>\n",
       "      <td>0.000000</td>\n",
       "      <td>0.000000</td>\n",
       "      <td>0.000000</td>\n",
       "      <td>0.000000</td>\n",
       "      <td>0.000000</td>\n",
       "      <td>0.000000</td>\n",
       "      <td>0.000000</td>\n",
       "    </tr>\n",
       "    <tr>\n",
       "      <th>50%</th>\n",
       "      <td>0.000000</td>\n",
       "      <td>0.000000</td>\n",
       "      <td>0.000000</td>\n",
       "      <td>0.000000</td>\n",
       "      <td>0.000000</td>\n",
       "      <td>0.000000</td>\n",
       "      <td>0.000000</td>\n",
       "      <td>0.000000</td>\n",
       "      <td>0.000000</td>\n",
       "      <td>0.00000</td>\n",
       "      <td>...</td>\n",
       "      <td>0.000000</td>\n",
       "      <td>0.000000</td>\n",
       "      <td>0.00000</td>\n",
       "      <td>0.000000</td>\n",
       "      <td>0.000000</td>\n",
       "      <td>0.000000</td>\n",
       "      <td>0.000000</td>\n",
       "      <td>0.000000</td>\n",
       "      <td>0.000000</td>\n",
       "      <td>0.000000</td>\n",
       "    </tr>\n",
       "    <tr>\n",
       "      <th>75%</th>\n",
       "      <td>0.000000</td>\n",
       "      <td>0.000000</td>\n",
       "      <td>0.000000</td>\n",
       "      <td>0.000000</td>\n",
       "      <td>0.000000</td>\n",
       "      <td>1.000000</td>\n",
       "      <td>0.000000</td>\n",
       "      <td>0.000000</td>\n",
       "      <td>1.000000</td>\n",
       "      <td>0.00000</td>\n",
       "      <td>...</td>\n",
       "      <td>0.000000</td>\n",
       "      <td>0.000000</td>\n",
       "      <td>0.00000</td>\n",
       "      <td>0.000000</td>\n",
       "      <td>0.000000</td>\n",
       "      <td>0.000000</td>\n",
       "      <td>0.000000</td>\n",
       "      <td>0.000000</td>\n",
       "      <td>0.000000</td>\n",
       "      <td>0.000000</td>\n",
       "    </tr>\n",
       "    <tr>\n",
       "      <th>max</th>\n",
       "      <td>1.000000</td>\n",
       "      <td>1.000000</td>\n",
       "      <td>1.000000</td>\n",
       "      <td>1.000000</td>\n",
       "      <td>1.000000</td>\n",
       "      <td>1.000000</td>\n",
       "      <td>1.000000</td>\n",
       "      <td>1.000000</td>\n",
       "      <td>1.000000</td>\n",
       "      <td>1.00000</td>\n",
       "      <td>...</td>\n",
       "      <td>1.000000</td>\n",
       "      <td>1.000000</td>\n",
       "      <td>1.00000</td>\n",
       "      <td>1.000000</td>\n",
       "      <td>1.000000</td>\n",
       "      <td>1.000000</td>\n",
       "      <td>1.000000</td>\n",
       "      <td>1.000000</td>\n",
       "      <td>1.000000</td>\n",
       "      <td>1.000000</td>\n",
       "    </tr>\n",
       "  </tbody>\n",
       "</table>\n",
       "<p>8 rows × 90 columns</p>\n",
       "</div>"
      ],
      "text/plain": [
       "           unknown       action    adventure    animation    childrens  \\\n",
       "count  1682.000000  1682.000000  1682.000000  1682.000000  1682.000000   \n",
       "mean      0.001189     0.149227     0.080262     0.024970     0.072533   \n",
       "std       0.034473     0.356418     0.271779     0.156081     0.259445   \n",
       "min       0.000000     0.000000     0.000000     0.000000     0.000000   \n",
       "25%       0.000000     0.000000     0.000000     0.000000     0.000000   \n",
       "50%       0.000000     0.000000     0.000000     0.000000     0.000000   \n",
       "75%       0.000000     0.000000     0.000000     0.000000     0.000000   \n",
       "max       1.000000     1.000000     1.000000     1.000000     1.000000   \n",
       "\n",
       "            comedy        crime  documentary        drama     fantasy  ...  \\\n",
       "count  1682.000000  1682.000000  1682.000000  1682.000000  1682.00000  ...   \n",
       "mean      0.300238     0.064804     0.029727     0.431034     0.01308  ...   \n",
       "std       0.458498     0.246253     0.169882     0.495368     0.11365  ...   \n",
       "min       0.000000     0.000000     0.000000     0.000000     0.00000  ...   \n",
       "25%       0.000000     0.000000     0.000000     0.000000     0.00000  ...   \n",
       "50%       0.000000     0.000000     0.000000     0.000000     0.00000  ...   \n",
       "75%       1.000000     0.000000     0.000000     1.000000     0.00000  ...   \n",
       "max       1.000000     1.000000     1.000000     1.000000     1.00000  ...   \n",
       "\n",
       "       year_1989.0  year_1990.0  year_1991.0  year_1992.0  year_1993.0  \\\n",
       "count  1682.000000  1682.000000   1682.00000  1682.000000  1682.000000   \n",
       "mean      0.008918     0.014269      0.01308     0.021998     0.074911   \n",
       "std       0.094041     0.118632      0.11365     0.146719     0.263326   \n",
       "min       0.000000     0.000000      0.00000     0.000000     0.000000   \n",
       "25%       0.000000     0.000000      0.00000     0.000000     0.000000   \n",
       "50%       0.000000     0.000000      0.00000     0.000000     0.000000   \n",
       "75%       0.000000     0.000000      0.00000     0.000000     0.000000   \n",
       "max       1.000000     1.000000      1.00000     1.000000     1.000000   \n",
       "\n",
       "       year_1994.0  year_1995.0  year_1996.0  year_1997.0  year_1998.0  \n",
       "count  1682.000000  1682.000000  1682.000000  1682.000000  1682.000000  \n",
       "mean      0.127229     0.130202     0.211058     0.170036     0.038644  \n",
       "std       0.333329     0.336626     0.408181     0.375776     0.192803  \n",
       "min       0.000000     0.000000     0.000000     0.000000     0.000000  \n",
       "25%       0.000000     0.000000     0.000000     0.000000     0.000000  \n",
       "50%       0.000000     0.000000     0.000000     0.000000     0.000000  \n",
       "75%       0.000000     0.000000     0.000000     0.000000     0.000000  \n",
       "max       1.000000     1.000000     1.000000     1.000000     1.000000  \n",
       "\n",
       "[8 rows x 90 columns]"
      ]
     },
     "execution_count": 23,
     "metadata": {},
     "output_type": "execute_result"
    }
   ],
   "source": [
    "n_dfmovies.describe()"
   ]
  },
  {
   "cell_type": "code",
   "execution_count": 24,
   "metadata": {},
   "outputs": [
    {
     "data": {
      "text/plain": [
       "array([4, 1, 1, ..., 3, 2, 5], dtype=uint16)"
      ]
     },
     "execution_count": 24,
     "metadata": {},
     "output_type": "execute_result"
    }
   ],
   "source": [
    "# KModes model\n",
    "num_clusters = 9\n",
    "kmodes = KModes(n_clusters=num_clusters, init=\"Huang\")\n",
    "kmodes.fit_predict(n_dfmovies)"
   ]
  },
  {
   "cell_type": "code",
   "execution_count": 25,
   "metadata": {},
   "outputs": [],
   "source": [
    "# cluster centroids\n",
    "centroids = kmodes.cluster_centroids_"
   ]
  },
  {
   "cell_type": "code",
   "execution_count": 26,
   "metadata": {},
   "outputs": [
    {
     "data": {
      "text/plain": [
       "(dtype('int64'), (9, 90))"
      ]
     },
     "execution_count": 26,
     "metadata": {},
     "output_type": "execute_result"
    }
   ],
   "source": [
    "centroids.dtype, centroids.shape"
   ]
  },
  {
   "cell_type": "code",
   "execution_count": 27,
   "metadata": {},
   "outputs": [],
   "source": [
    "n_dfmovies = n_dfmovies.values"
   ]
  },
  {
   "cell_type": "code",
   "execution_count": 28,
   "metadata": {},
   "outputs": [
    {
     "data": {
      "text/plain": [
       "(1682, 90)"
      ]
     },
     "execution_count": 28,
     "metadata": {},
     "output_type": "execute_result"
    }
   ],
   "source": [
    "n_dfmovies.shape"
   ]
  },
  {
   "cell_type": "code",
   "execution_count": 29,
   "metadata": {},
   "outputs": [],
   "source": [
    "# compute euclidean distance between a cluster centroid and each data point\n",
    "euc = EuclideanDistance(n_dfmovies, num_clusters, centroids)\n",
    "eucres = euc.compute()"
   ]
  },
  {
   "cell_type": "code",
   "execution_count": 30,
   "metadata": {},
   "outputs": [
    {
     "data": {
      "text/plain": [
       "(1682, 9)"
      ]
     },
     "execution_count": 30,
     "metadata": {},
     "output_type": "execute_result"
    }
   ],
   "source": [
    "eucres.shape"
   ]
  },
  {
   "cell_type": "code",
   "execution_count": 31,
   "metadata": {},
   "outputs": [
    {
     "data": {
      "text/plain": [
       "(1682, 1)"
      ]
     },
     "execution_count": 31,
     "metadata": {},
     "output_type": "execute_result"
    }
   ],
   "source": [
    "val_m = np.array(dfmovies.movieId.values)\n",
    "val_m = val_m.reshape(eucres.shape[0],1)\n",
    "val_m.shape\n"
   ]
  },
  {
   "cell_type": "code",
   "execution_count": 32,
   "metadata": {},
   "outputs": [
    {
     "data": {
      "text/plain": [
       "(array([[   1,    0,    0, ...,    0,    0,    0],\n",
       "        [   2,    0,    1, ...,    0,    0,    0],\n",
       "        [   3,    0,    0, ...,    0,    0,    0],\n",
       "        ...,\n",
       "        [1680,    0,    0, ...,    0,    0,    1],\n",
       "        [1681,    0,    0, ...,    0,    0,    0],\n",
       "        [1682,    0,    0, ...,    1,    0,    0]]),\n",
       " (1682, 91))"
      ]
     },
     "execution_count": 32,
     "metadata": {},
     "output_type": "execute_result"
    }
   ],
   "source": [
    "# merge user feature in movies dataset\n",
    "n_dfmovies = np.concatenate((val_m, n_dfmovies), axis=1)\n",
    "n_dfmovies, n_dfmovies.shape"
   ]
  },
  {
   "cell_type": "code",
   "execution_count": 33,
   "metadata": {},
   "outputs": [
    {
     "data": {
      "text/plain": [
       "(1682, 100)"
      ]
     },
     "execution_count": 33,
     "metadata": {},
     "output_type": "execute_result"
    }
   ],
   "source": [
    "# merge movies and euclidean distances\n",
    "n_dfmovies = np.concatenate((n_dfmovies, eucres), axis=1)\n",
    "n_dfmovies.shape"
   ]
  },
  {
   "cell_type": "code",
   "execution_count": 34,
   "metadata": {},
   "outputs": [
    {
     "data": {
      "text/plain": [
       "array([[1.00000000e+00, 0.00000000e+00, 0.00000000e+00, ...,\n",
       "        2.44948974e+00, 2.44948974e+00, 2.23606798e+00],\n",
       "       [2.00000000e+00, 0.00000000e+00, 1.00000000e+00, ...,\n",
       "        2.44948974e+00, 2.44948974e+00, 2.23606798e+00],\n",
       "       [3.00000000e+00, 0.00000000e+00, 0.00000000e+00, ...,\n",
       "        2.00000000e+00, 2.00000000e+00, 1.73205081e+00],\n",
       "       ...,\n",
       "       [1.68000000e+03, 0.00000000e+00, 0.00000000e+00, ...,\n",
       "        1.73205081e+00, 1.73205081e+00, 2.00000000e+00],\n",
       "       [1.68100000e+03, 0.00000000e+00, 0.00000000e+00, ...,\n",
       "        2.00000000e+00, 2.00000000e+00, 1.73205081e+00],\n",
       "       [1.68200000e+03, 0.00000000e+00, 0.00000000e+00, ...,\n",
       "        2.00000000e+00, 1.41421356e+00, 1.00000000e+00]])"
      ]
     },
     "execution_count": 34,
     "metadata": {},
     "output_type": "execute_result"
    }
   ],
   "source": [
    "n_dfmovies"
   ]
  },
  {
   "cell_type": "code",
   "execution_count": 35,
   "metadata": {},
   "outputs": [],
   "source": [
    "# import ratings dataset\n",
    "dfratings = pd.read_csv(f\"{DATAPATH}/u.data\", sep='\\t', header=None, engine='python', encoding='latin-1')\n",
    "dfratings.columns = ['userId', 'movieId', 'rating', 'timestamp']"
   ]
  },
  {
   "cell_type": "code",
   "execution_count": 36,
   "metadata": {},
   "outputs": [],
   "source": [
    "# transform timestamp feature\n",
    "dfratings['timestamp'] = pd.to_datetime (dfratings['timestamp'], unit='s')\n",
    "dfratings['year']=dfratings['timestamp'].dt.year"
   ]
  },
  {
   "cell_type": "code",
   "execution_count": 37,
   "metadata": {},
   "outputs": [],
   "source": [
    "# scalerize ratings dataset\n",
    "scaler = MinMaxScaler()\n",
    "dfratings[['year', 'rating']]=scaler.fit_transform(dfratings[['year', 'rating']])\n",
    "dfratings = dfratings.drop('timestamp', axis=1)"
   ]
  },
  {
   "cell_type": "code",
   "execution_count": 38,
   "metadata": {},
   "outputs": [],
   "source": [
    "# convert dataframe to an array\n",
    "n_dfratings = dfratings.drop('rating', axis=1).values\n",
    "n_ratings = dfratings['rating'].values"
   ]
  },
  {
   "cell_type": "code",
   "execution_count": 39,
   "metadata": {},
   "outputs": [],
   "source": [
    "# merge dataset\n",
    "list =[]\n",
    "for m in range(n_dfratings.shape[0]):\n",
    "    for n in range(n_dfmovies.shape[0]):\n",
    "        if (n_dfratings[m][1] == n_dfmovies[n][0]):\n",
    "            merge = np.concatenate((n_dfmovies[n], n_dfratings[m]))\n",
    "            list.append(merge)\n",
    "list = np.array(list)\n",
    "new_list = []\n",
    "# delete duplicate movieId\n",
    "for k in range(list.shape[0]):\n",
    "    val = np.delete(list[k], 0)\n",
    "    new_list.append(val)\n",
    "new_list = np.array(new_list)"
   ]
  },
  {
   "cell_type": "code",
   "execution_count": 40,
   "metadata": {},
   "outputs": [
    {
     "data": {
      "text/plain": [
       "(100000, 102)"
      ]
     },
     "execution_count": 40,
     "metadata": {},
     "output_type": "execute_result"
    }
   ],
   "source": [
    "new_list.shape"
   ]
  },
  {
   "cell_type": "code",
   "execution_count": 41,
   "metadata": {},
   "outputs": [],
   "source": [
    "# split X, y\n",
    "X = new_list\n",
    "y = n_ratings"
   ]
  },
  {
   "cell_type": "code",
   "execution_count": 42,
   "metadata": {},
   "outputs": [
    {
     "name": "stdout",
     "output_type": "stream",
     "text": [
      "Fold 1:\n",
      "Fold 2:\n",
      "Fold 3:\n",
      "Fold 4:\n",
      "Fold 5:\n"
     ]
    }
   ],
   "source": [
    "# kfold cross validation\n",
    "K = evaluation( X, y, 5, 100)\n",
    "cv = K.kfold()"
   ]
  },
  {
   "cell_type": "code",
   "execution_count": 43,
   "metadata": {},
   "outputs": [
    {
     "data": {
      "text/plain": [
       "(array([[1.42, 2.32, 2.67, ..., 3.87, 2.52, 2.81],\n",
       "        [4.53, 3.53, 4.29, ..., 3.58, 2.74, 4.1 ],\n",
       "        [2.45, 4.33, 3.8 , ..., 3.99, 2.39, 2.66],\n",
       "        [4.14, 3.75, 3.32, ..., 3.15, 2.49, 3.85],\n",
       "        [3.8 , 4.15, 4.04, ..., 2.86, 3.29, 4.17]]),\n",
       " array([[0.  , 0.5 , 0.5 , ..., 0.75, 0.5 , 0.25],\n",
       "        [0.75, 1.  , 0.5 , ..., 0.25, 0.5 , 1.  ],\n",
       "        [0.5 , 0.75, 1.  , ..., 0.  , 0.  , 0.  ],\n",
       "        [0.5 , 0.25, 1.  , ..., 0.5 , 0.25, 0.5 ],\n",
       "        [0.5 , 0.  , 0.25, ..., 0.75, 0.75, 0.5 ]]))"
      ]
     },
     "execution_count": 43,
     "metadata": {},
     "output_type": "execute_result"
    }
   ],
   "source": [
    "#split tuple \n",
    "classes, eucdis = cv\n",
    "classes, eucdis"
   ]
  },
  {
   "cell_type": "code",
   "execution_count": 44,
   "metadata": {},
   "outputs": [
    {
     "name": "stdout",
     "output_type": "stream",
     "text": [
      "Metric | Mean | Standard Deviation\n",
      "RMSE 2.965250537972268, 0.0025133752563056555\n",
      "MAE 2.8915148000000004, 0.0026076297398213697\n"
     ]
    }
   ],
   "source": [
    "# metrics\n",
    "ans = result(classes, eucdis)\n",
    "Metrics = ans.validate()"
   ]
  }
 ],
 "metadata": {
  "kernelspec": {
   "display_name": "my_env",
   "language": "python",
   "name": "python3"
  },
  "language_info": {
   "codemirror_mode": {
    "name": "ipython",
    "version": 3
   },
   "file_extension": ".py",
   "mimetype": "text/x-python",
   "name": "python",
   "nbconvert_exporter": "python",
   "pygments_lexer": "ipython3",
   "version": "3.10.9"
  },
  "orig_nbformat": 4,
  "vscode": {
   "interpreter": {
    "hash": "483448e20d2d4b2c0e474daa32b154ce090ec41173ad5eb38e41a0879ee7273d"
   }
  }
 },
 "nbformat": 4,
 "nbformat_minor": 2
}
