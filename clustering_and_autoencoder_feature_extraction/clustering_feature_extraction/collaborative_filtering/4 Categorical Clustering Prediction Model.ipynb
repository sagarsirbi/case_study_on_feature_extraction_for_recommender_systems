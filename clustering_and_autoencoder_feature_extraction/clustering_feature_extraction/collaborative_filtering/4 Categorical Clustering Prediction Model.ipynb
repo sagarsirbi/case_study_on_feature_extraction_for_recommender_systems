{
 "cells": [
  {
   "cell_type": "code",
   "execution_count": 1,
   "metadata": {},
   "outputs": [],
   "source": [
    "PATH = '/home/g056122/FeatExt_Data_Clustering/final_github/collaborative_filtering/'    "
   ]
  },
  {
   "cell_type": "code",
   "execution_count": 2,
   "metadata": {},
   "outputs": [],
   "source": [
    "DATAPATH = '/home/g056122/ISG_studienarbeit/Movielens_100K'"
   ]
  },
  {
   "cell_type": "code",
   "execution_count": 3,
   "metadata": {},
   "outputs": [],
   "source": [
    "''' \n",
    "Load 'euclid', 'validate' and 'valres' module from the 'Module' folder \n",
    "'''\n",
    "# import required libraries\n",
    "import numpy as np\n",
    "import pandas as pd\n",
    "from kmodes.kmodes import KModes\n",
    "import matplotlib.pyplot as plt\n",
    "from sklearn.preprocessing import LabelEncoder, MinMaxScaler\n",
    "from validate import evaluation\n",
    "from euclid import EuclideanDistance\n",
    "from valres import result"
   ]
  },
  {
   "cell_type": "code",
   "execution_count": 4,
   "metadata": {},
   "outputs": [],
   "source": [
    "# import users dataset\n",
    "dfusers = pd.read_csv(f\"{DATAPATH}/u.user\", sep='|', header=None, engine='python', encoding='latin-1')\n",
    "dfusers.columns = ['userId', 'age', 'gender', 'occupation', 'zipcode']"
   ]
  },
  {
   "cell_type": "code",
   "execution_count": 5,
   "metadata": {},
   "outputs": [
    {
     "data": {
      "text/plain": [
       "(943, 5)"
      ]
     },
     "execution_count": 5,
     "metadata": {},
     "output_type": "execute_result"
    }
   ],
   "source": [
    "dfusers.shape"
   ]
  },
  {
   "cell_type": "code",
   "execution_count": 6,
   "metadata": {},
   "outputs": [],
   "source": [
    "# encode users dataset\n",
    "categorylist=['age', 'gender', 'occupation', 'zipcode']\n",
    "n_dfusers = pd.get_dummies(dfusers, columns=categorylist)"
   ]
  },
  {
   "cell_type": "code",
   "execution_count": 7,
   "metadata": {},
   "outputs": [],
   "source": [
    "# drop userId feature from dataset\n",
    "n_dfusers = n_dfusers.drop('userId', axis=1)"
   ]
  },
  {
   "cell_type": "code",
   "execution_count": 8,
   "metadata": {},
   "outputs": [
    {
     "data": {
      "text/plain": [
       "(943, 879)"
      ]
     },
     "execution_count": 8,
     "metadata": {},
     "output_type": "execute_result"
    }
   ],
   "source": [
    "n_dfusers.shape"
   ]
  },
  {
   "cell_type": "code",
   "execution_count": 9,
   "metadata": {},
   "outputs": [
    {
     "data": {
      "text/plain": [
       "array([0, 5, 6, 0, 5, 7, 3, 3, 2, 0, 5, 5, 1, 0, 5, 0, 0, 5, 0, 5, 6, 6,\n",
       "       5, 5, 0, 0, 5, 6, 0, 2, 0, 5, 2, 5, 5, 5, 2, 5, 0, 0, 0, 3, 5, 0,\n",
       "       0, 5, 0, 3, 5, 6, 1, 5, 0, 7, 0, 0, 0, 0, 1, 0, 0, 5, 0, 1, 5, 2,\n",
       "       2, 2, 0, 0, 0, 5, 2, 0, 0, 2, 0, 3, 5, 5, 2, 0, 4, 7, 1, 3, 3, 5,\n",
       "       5, 1, 0, 0, 7, 2, 3, 5, 0, 5, 2, 7, 2, 0, 2, 2, 0, 0, 0, 1, 4, 2,\n",
       "       0, 0, 7, 0, 0, 0, 2, 3, 0, 5, 0, 5, 5, 2, 0, 5, 0, 5, 5, 0, 5, 4,\n",
       "       0, 0, 2, 4, 1, 0, 2, 5, 0, 4, 0, 0, 0, 0, 5, 0, 5, 5, 5, 5, 2, 2,\n",
       "       5, 1, 0, 1, 5, 0, 0, 0, 3, 0, 5, 1, 4, 4, 5, 5, 5, 0, 4, 5, 5, 0,\n",
       "       0, 4, 0, 5, 7, 0, 0, 0, 5, 5, 1, 2, 0, 3, 3, 1, 2, 3, 0, 6, 0, 5,\n",
       "       6, 0, 6, 5, 5, 5, 0, 5, 0, 0, 5, 0, 0, 5, 7, 5, 0, 0, 4, 3, 0, 0,\n",
       "       2, 0, 5, 5, 5, 2, 7, 5, 5, 5, 0, 0, 0, 0, 1, 5, 3, 5, 0, 5, 5, 1,\n",
       "       1, 0, 2, 2, 0, 2, 2, 7, 0, 0, 5, 1, 0, 5, 2, 5, 2, 5, 3, 5, 0, 5,\n",
       "       7, 5, 0, 0, 5, 5, 0, 0, 5, 5, 0, 2, 5, 5, 0, 5, 5, 3, 0, 7, 0, 2,\n",
       "       0, 0, 0, 0, 2, 5, 6, 0, 1, 5, 5, 7, 0, 5, 2, 1, 2, 5, 0, 4, 2, 0,\n",
       "       0, 1, 0, 4, 0, 5, 1, 5, 3, 0, 0, 2, 5, 2, 2, 5, 0, 3, 2, 3, 1, 5,\n",
       "       0, 2, 4, 0, 7, 0, 0, 5, 0, 0, 5, 5, 0, 5, 5, 4, 2, 5, 0, 2, 1, 5,\n",
       "       0, 5, 2, 5, 7, 1, 2, 4, 2, 5, 2, 0, 0, 5, 2, 2, 2, 6, 0, 5, 5, 7,\n",
       "       0, 5, 2, 2, 0, 0, 0, 0, 3, 0, 6, 0, 0, 4, 5, 5, 2, 6, 2, 3, 4, 0,\n",
       "       2, 4, 4, 5, 5, 0, 4, 5, 5, 1, 0, 2, 3, 5, 1, 1, 1, 0, 1, 5, 5, 5,\n",
       "       0, 1, 5, 0, 4, 5, 2, 1, 0, 2, 2, 0, 0, 0, 0, 5, 0, 5, 5, 5, 5, 4,\n",
       "       0, 2, 0, 5, 6, 1, 3, 0, 0, 5, 2, 3, 2, 4, 3, 0, 5, 0, 2, 5, 2, 5,\n",
       "       5, 6, 4, 2, 0, 0, 1, 0, 2, 2, 2, 7, 0, 2, 5, 4, 1, 0, 0, 5, 0, 2,\n",
       "       5, 1, 0, 0, 4, 5, 5, 1, 0, 5, 0, 5, 2, 6, 0, 3, 2, 2, 5, 5, 5, 0,\n",
       "       5, 0, 3, 4, 2, 4, 3, 0, 0, 5, 2, 5, 4, 0, 2, 0, 5, 1, 5, 0, 0, 2,\n",
       "       5, 0, 5, 2, 0, 2, 5, 0, 0, 0, 5, 0, 5, 2, 0, 5, 0, 7, 1, 6, 0, 5,\n",
       "       0, 4, 1, 0, 5, 5, 5, 5, 7, 2, 0, 5, 5, 0, 2, 2, 0, 1, 1, 1, 0, 1,\n",
       "       0, 1, 0, 7, 5, 3, 1, 2, 4, 2, 0, 2, 0, 2, 4, 5, 0, 1, 5, 2, 5, 1,\n",
       "       0, 0, 4, 5, 5, 0, 5, 5, 0, 1, 0, 0, 5, 4, 5, 2, 0, 1, 5, 1, 1, 0,\n",
       "       5, 5, 2, 5, 2, 0, 5, 2, 0, 0, 0, 0, 5, 5, 5, 2, 0, 0, 4, 1, 4, 0,\n",
       "       5, 2, 2, 5, 0, 0, 0, 5, 1, 0, 2, 0, 0, 4, 7, 5, 5, 1, 5, 0, 1, 2,\n",
       "       0, 0, 4, 0, 3, 3, 0, 5, 4, 0, 0, 5, 1, 5, 4, 0, 4, 1, 5, 0, 5, 0,\n",
       "       0, 2, 5, 1, 5, 5, 4, 0, 1, 0, 5, 0, 6, 4, 4, 5, 4, 2, 5, 4, 1, 5,\n",
       "       5, 2, 5, 5, 4, 2, 5, 5, 5, 0, 0, 5, 0, 0, 5, 5, 5, 5, 7, 7, 2, 5,\n",
       "       2, 7, 2, 5, 5, 5, 5, 5, 5, 5, 0, 0, 0, 5, 6, 2, 0, 0, 6, 0, 4, 3,\n",
       "       4, 3, 5, 0, 0, 5, 5, 5, 2, 2, 5, 5, 2, 3, 0, 5, 2, 4, 0, 3, 7, 2,\n",
       "       2, 6, 2, 2, 7, 0, 0, 2, 2, 0, 2, 5, 0, 3, 0, 5, 5, 3, 4, 0, 1, 0,\n",
       "       2, 1, 0, 5, 5, 5, 5, 0, 6, 3, 3, 1, 5, 0, 5, 0, 5, 5, 5, 0, 5, 4,\n",
       "       4, 4, 2, 0, 3, 2, 0, 5, 0, 4, 0, 0, 5, 0, 6, 0, 4, 0, 6, 4, 5, 0,\n",
       "       5, 2, 5, 0, 0, 6, 0, 0, 0, 0, 2, 0, 5, 0, 4, 3, 6, 5, 0, 5, 5, 1,\n",
       "       5, 5, 5, 7, 2, 0, 0, 4, 0, 0, 2, 2, 7, 5, 5, 0, 5, 4, 4, 5, 5, 2,\n",
       "       0, 0, 0, 0, 5, 2, 5, 0, 0, 2, 5, 4, 2, 1, 5, 6, 4, 0, 4, 0, 7, 5,\n",
       "       1, 5, 4, 0, 5, 5, 5, 0, 5, 4, 2, 5, 0, 0, 5, 0, 4, 5, 5, 5, 2, 4,\n",
       "       5, 0, 0, 2, 0, 5, 1, 1, 2, 0, 0, 4, 1, 5, 5, 3, 2, 5, 2],\n",
       "      dtype=uint16)"
      ]
     },
     "execution_count": 9,
     "metadata": {},
     "output_type": "execute_result"
    }
   ],
   "source": [
    "# KMode clustering with optimal value \n",
    "num_clusters = 8\n",
    "kmodes = KModes(n_clusters=num_clusters, init=\"Huang\")\n",
    "kmodes.fit_predict(n_dfusers)"
   ]
  },
  {
   "cell_type": "code",
   "execution_count": 10,
   "metadata": {},
   "outputs": [],
   "source": [
    "# cluster centroids\n",
    "centroids = kmodes.cluster_centroids_"
   ]
  },
  {
   "cell_type": "code",
   "execution_count": 11,
   "metadata": {},
   "outputs": [
    {
     "data": {
      "text/plain": [
       "(dtype('uint8'), (8, 879))"
      ]
     },
     "execution_count": 11,
     "metadata": {},
     "output_type": "execute_result"
    }
   ],
   "source": [
    "centroids.dtype, centroids.shape"
   ]
  },
  {
   "cell_type": "code",
   "execution_count": 12,
   "metadata": {},
   "outputs": [],
   "source": [
    "# convert users dataframe to an array\n",
    "n_dfusers = n_dfusers.values"
   ]
  },
  {
   "cell_type": "code",
   "execution_count": 13,
   "metadata": {},
   "outputs": [
    {
     "name": "stderr",
     "output_type": "stream",
     "text": [
      "/home/g056122/FeatExt_Data_Clustering/final_github/collaborative_filtering/euclid.py:20: RuntimeWarning: overflow encountered in ubyte_scalars\n",
      "  val = (self.data[i][j] - self.centroid[k][j])**2\n"
     ]
    }
   ],
   "source": [
    "# compute euclidean distance between a cluster centroid and each data point\n",
    "euc = EuclideanDistance(n_dfusers, num_clusters, centroids)\n",
    "eucres = euc.compute()"
   ]
  },
  {
   "cell_type": "code",
   "execution_count": 14,
   "metadata": {},
   "outputs": [
    {
     "data": {
      "text/plain": [
       "(943, 8)"
      ]
     },
     "execution_count": 14,
     "metadata": {},
     "output_type": "execute_result"
    }
   ],
   "source": [
    "eucres.shape"
   ]
  },
  {
   "cell_type": "code",
   "execution_count": 15,
   "metadata": {},
   "outputs": [
    {
     "data": {
      "text/plain": [
       "(943, 1)"
      ]
     },
     "execution_count": 15,
     "metadata": {},
     "output_type": "execute_result"
    }
   ],
   "source": [
    "# convert userId feature to an array\n",
    "val_u = np.array(dfusers.userId.values)\n",
    "val_u = val_u.reshape(n_dfusers.shape[0],1)\n",
    "val_u.shape\n"
   ]
  },
  {
   "cell_type": "code",
   "execution_count": 16,
   "metadata": {},
   "outputs": [
    {
     "data": {
      "text/plain": [
       "(array([[  1,   0,   0, ...,   0,   0,   0],\n",
       "        [  2,   0,   0, ...,   0,   0,   0],\n",
       "        [  3,   0,   0, ...,   0,   0,   0],\n",
       "        ...,\n",
       "        [941,   0,   0, ...,   0,   0,   0],\n",
       "        [942,   0,   0, ...,   0,   0,   0],\n",
       "        [943,   0,   0, ...,   0,   0,   0]]),\n",
       " (943, 880))"
      ]
     },
     "execution_count": 16,
     "metadata": {},
     "output_type": "execute_result"
    }
   ],
   "source": [
    "# merge dataset\n",
    "n_dfusers = np.concatenate((val_u, n_dfusers), axis=1)\n",
    "n_dfusers, n_dfusers.shape"
   ]
  },
  {
   "cell_type": "code",
   "execution_count": 17,
   "metadata": {},
   "outputs": [
    {
     "data": {
      "text/plain": [
       "(943, 888)"
      ]
     },
     "execution_count": 17,
     "metadata": {},
     "output_type": "execute_result"
    }
   ],
   "source": [
    "# merge dataset\n",
    "n_dfusers = np.concatenate((n_dfusers, eucres), axis=1)\n",
    "n_dfusers.shape"
   ]
  },
  {
   "cell_type": "code",
   "execution_count": 18,
   "metadata": {},
   "outputs": [],
   "source": [
    "# import ratings dataset\n",
    "dfratings = pd.read_csv(f\"{DATAPATH}/u.data\", sep='\\t', header=None, engine='python', encoding='latin-1')\n",
    "dfratings.columns = ['userId', 'movieId', 'rating', 'timestamp']"
   ]
  },
  {
   "cell_type": "code",
   "execution_count": 19,
   "metadata": {},
   "outputs": [],
   "source": [
    "# timestamp feature transformation\n",
    "dfratings['timestamp'] = pd.to_datetime (dfratings['timestamp'], unit='s')\n",
    "dfratings['year']=dfratings['timestamp'].dt.year"
   ]
  },
  {
   "cell_type": "code",
   "execution_count": 20,
   "metadata": {},
   "outputs": [],
   "source": [
    "# scalerize ratings dataset\n",
    "scaler = MinMaxScaler()\n",
    "dfratings[['year', 'rating']]=scaler.fit_transform(dfratings[['year', 'rating']])"
   ]
  },
  {
   "cell_type": "code",
   "execution_count": 21,
   "metadata": {},
   "outputs": [],
   "source": [
    "# drop timestamp feature\n",
    "dfratings = dfratings.drop('timestamp', axis=1)"
   ]
  },
  {
   "cell_type": "code",
   "execution_count": 22,
   "metadata": {},
   "outputs": [],
   "source": [
    "# split dataset for training and validation\n",
    "n_dfratings = dfratings.drop('rating', axis=1).values\n",
    "n_ratings = dfratings['rating'].values"
   ]
  },
  {
   "cell_type": "code",
   "execution_count": 23,
   "metadata": {},
   "outputs": [],
   "source": [
    "# merge ratings and users dataset\n",
    "list =[]\n",
    "for m in range(n_dfratings.shape[0]):\n",
    "    for n in range(n_dfusers.shape[0]):\n",
    "        if (n_dfratings[m][0] == n_dfusers[n][0]):\n",
    "            merge = np.concatenate((n_dfratings[m], n_dfusers[n]))\n",
    "            list.append(merge)\n",
    "list = np.array(list)\n",
    "new_list = []\n",
    "for k in range(list.shape[0]):\n",
    "    val = np.delete(list[k], 0)\n",
    "    new_list.append(val)\n",
    "new_list = np.array(new_list)"
   ]
  },
  {
   "cell_type": "code",
   "execution_count": 24,
   "metadata": {},
   "outputs": [],
   "source": [
    "# split dataset to X (features) and y (labels)\n",
    "X = new_list\n",
    "y = n_ratings"
   ]
  },
  {
   "cell_type": "code",
   "execution_count": 25,
   "metadata": {},
   "outputs": [
    {
     "name": "stdout",
     "output_type": "stream",
     "text": [
      "Fold 1:\n",
      "Fold 2:\n",
      "Fold 3:\n",
      "Fold 4:\n",
      "Fold 5:\n"
     ]
    }
   ],
   "source": [
    "# kfold cross validation\n",
    "K = evaluation( X, y, 5, 100)\n",
    "cv = K.kfold()"
   ]
  },
  {
   "cell_type": "code",
   "execution_count": 26,
   "metadata": {},
   "outputs": [
    {
     "data": {
      "text/plain": [
       "(array([[2.63, 3.21, 2.98, ..., 3.3 , 3.16, 3.35],\n",
       "        [4.69, 3.61, 3.19, ..., 2.87, 2.17, 4.29],\n",
       "        [2.93, 4.46, 3.66, ..., 4.01, 2.  , 1.96],\n",
       "        [4.21, 3.9 , 3.28, ..., 3.1 , 2.94, 4.21],\n",
       "        [4.38, 4.56, 3.82, ..., 4.29, 3.29, 3.69]]),\n",
       " array([[0.  , 0.5 , 0.5 , ..., 0.75, 0.5 , 0.25],\n",
       "        [0.75, 1.  , 0.5 , ..., 0.25, 0.5 , 1.  ],\n",
       "        [0.5 , 0.75, 1.  , ..., 0.  , 0.  , 0.  ],\n",
       "        [0.5 , 0.25, 1.  , ..., 0.5 , 0.25, 0.5 ],\n",
       "        [0.5 , 0.  , 0.25, ..., 0.75, 0.75, 0.5 ]]))"
      ]
     },
     "execution_count": 26,
     "metadata": {},
     "output_type": "execute_result"
    }
   ],
   "source": [
    "#split tuple \n",
    "classes, eucdis = cv\n",
    "classes, eucdis"
   ]
  },
  {
   "cell_type": "code",
   "execution_count": 27,
   "metadata": {},
   "outputs": [
    {
     "name": "stdout",
     "output_type": "stream",
     "text": [
      "Metric | Mean | Standard Deviation\n",
      "RMSE 3.0077082140209965, 0.0030345198348923617\n",
      "MAE 2.9418765000000002, 0.0041442845582801945\n"
     ]
    }
   ],
   "source": [
    "# metrics\n",
    "ans = result(classes, eucdis)\n",
    "Metrics = ans.validate()"
   ]
  }
 ],
 "metadata": {
  "kernelspec": {
   "display_name": "my_env",
   "language": "python",
   "name": "python3"
  },
  "language_info": {
   "codemirror_mode": {
    "name": "ipython",
    "version": 3
   },
   "file_extension": ".py",
   "mimetype": "text/x-python",
   "name": "python",
   "nbconvert_exporter": "python",
   "pygments_lexer": "ipython3",
   "version": "3.10.9"
  },
  "orig_nbformat": 4,
  "vscode": {
   "interpreter": {
    "hash": "483448e20d2d4b2c0e474daa32b154ce090ec41173ad5eb38e41a0879ee7273d"
   }
  }
 },
 "nbformat": 4,
 "nbformat_minor": 2
}
